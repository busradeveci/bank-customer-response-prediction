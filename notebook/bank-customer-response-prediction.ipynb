{
 "cells": [
  {
   "cell_type": "markdown",
   "id": "b9732ef5",
   "metadata": {
    "papermill": {
     "duration": 0.006739,
     "end_time": "2025-05-21T20:29:52.918522",
     "exception": false,
     "start_time": "2025-05-21T20:29:52.911783",
     "status": "completed"
    },
    "tags": []
   },
   "source": [
    "# Banka Müşteri Davranışı Analizi ve Tahmin Projesi\n",
    "\n",
    "## Proje Amacı\n",
    "\n",
    "\n",
    "#### Bu makine öğrenmesi projesinin temel amacı, bir bankanın telefonla yaptığı pazarlama kampanyalarına müşterilerin vereceği yanıtı (vadeli mevduat hesabı açıp açmayacaklarını) tahmin etmektir. Bu tahmin sayesinde bankanın:\n",
    "#### *  Pazarlama kaynaklarını daha verimli kullanması,\n",
    "#### *  Doğru müşteri segmentlerine odaklanması,\n",
    "#### * Müşteri deneyimini iyileştirmesi,\n",
    "#### * Kampanya maliyetlerini düşürmesi hedeflenmektedir.\n",
    "\n",
    "\n",
    "## Veri Seti Hakkında\n",
    "\n",
    "### Kullandığımız veri seti, Portekiz'deki bir bankanın telefonla pazarlama kampanyalarına ait verileri içermektedir.\n",
    "\n",
    "#### *  21 özellik (demografik, finansal ve kampanyaya özel),\n",
    "#### *  20.000 gözlem (orijinal veriden örneklenmiş),\n",
    "#### *  Tarih aralığı: Mayıs 2008 - Kasım 2010"
   ]
  },
  {
   "cell_type": "markdown",
   "id": "d837a782",
   "metadata": {
    "papermill": {
     "duration": 0.005582,
     "end_time": "2025-05-21T20:29:52.929889",
     "exception": false,
     "start_time": "2025-05-21T20:29:52.924307",
     "status": "completed"
    },
    "tags": []
   },
   "source": [
    "# Kütüphanelerin Yüklenmesi\n",
    "> ### *Makine öğrenmesi projemizde verileri analiz etmek, görselleştirmek ve modelleme işlemlerini gerçekleştirmek için çeşitli Python kütüphanelerini kullandık. Bu kütüphaneler aşağıda listelenmiştir:*"
   ]
  },
  {
   "cell_type": "code",
   "execution_count": 1,
   "id": "185a9edc",
   "metadata": {
    "execution": {
     "iopub.execute_input": "2025-05-21T20:29:52.942413Z",
     "iopub.status.busy": "2025-05-21T20:29:52.942160Z",
     "iopub.status.idle": "2025-05-21T20:29:56.412296Z",
     "shell.execute_reply": "2025-05-21T20:29:56.411652Z"
    },
    "papermill": {
     "duration": 3.477851,
     "end_time": "2025-05-21T20:29:56.413521",
     "exception": false,
     "start_time": "2025-05-21T20:29:52.935670",
     "status": "completed"
    },
    "tags": []
   },
   "outputs": [],
   "source": [
    "import numpy as np\n",
    "import pandas as pd\n",
    "import matplotlib.pyplot as plt\n",
    "import seaborn as sns\n",
    "from IPython.display import display\n",
    "from sklearn.model_selection import train_test_split, RandomizedSearchCV\n",
    "from sklearn.preprocessing import StandardScaler, OneHotEncoder, LabelEncoder\n",
    "from sklearn.compose import ColumnTransformer\n",
    "from sklearn.ensemble import RandomForestClassifier\n",
    "from xgboost import XGBClassifier\n",
    "from sklearn.metrics import roc_auc_score, roc_curve\n",
    "from sklearn.metrics import (accuracy_score, precision_score, recall_score, \n",
    "                            f1_score, confusion_matrix, classification_report)\n",
    "import warnings\n",
    "warnings.filterwarnings('ignore')"
   ]
  },
  {
   "cell_type": "markdown",
   "id": "b90deffc",
   "metadata": {
    "papermill": {
     "duration": 0.005681,
     "end_time": "2025-05-21T20:29:56.425397",
     "exception": false,
     "start_time": "2025-05-21T20:29:56.419716",
     "status": "completed"
    },
    "tags": []
   },
   "source": [
    "# Verinin Yüklenmesi ve Örneklenmesi\n",
    "#### *Projeye ilk adım olarak, bankanın pazarlama kampanyalarına ait verileri içeren CSV formatındaki dosyayı pandas kütüphanesi yardımıyla yüklüyoruz. Daha sonra, veri seti oldukça büyük olduğu için (yaklaşık 41.000 gözlem içeriyor), analiz sürecini hızlandırmak ve daha yönetilebilir hale getirmek amacıyla bu veriden rastgele 20.000 satırlık bir örneklem alıyoruz.*"
   ]
  },
  {
   "cell_type": "code",
   "execution_count": 2,
   "id": "81e302fb",
   "metadata": {
    "execution": {
     "iopub.execute_input": "2025-05-21T20:29:56.438493Z",
     "iopub.status.busy": "2025-05-21T20:29:56.438088Z",
     "iopub.status.idle": "2025-05-21T20:29:56.589798Z",
     "shell.execute_reply": "2025-05-21T20:29:56.589174Z"
    },
    "papermill": {
     "duration": 0.159624,
     "end_time": "2025-05-21T20:29:56.591060",
     "exception": false,
     "start_time": "2025-05-21T20:29:56.431436",
     "status": "completed"
    },
    "tags": []
   },
   "outputs": [],
   "source": [
    "# Veriyi okuma\n",
    "data = pd.read_csv('/kaggle/input/bank-churn/bank-additional-full.csv')\n",
    "# Çalışmaları daha hızlı ve verimli yapabilmek için veri setinden 20.000 örnek seçtim\n",
    "data = data.sample(n=20000, random_state=42)"
   ]
  },
  {
   "cell_type": "markdown",
   "id": "6c7c914b",
   "metadata": {
    "papermill": {
     "duration": 0.005473,
     "end_time": "2025-05-21T20:29:56.602446",
     "exception": false,
     "start_time": "2025-05-21T20:29:56.596973",
     "status": "completed"
    },
    "tags": []
   },
   "source": [
    "# Veriye İlk Bakış: Boyut, İçerik ve Türler\n",
    "> ### *Modelleme aşamasına geçmeden önce veri setini genel hatlarıyla tanımak önemli. Bu adımda, verinin ilk birkaç satırını inceleyerek sütun yapısını gözlemliyor, toplam kaç satır ve sütun içerdiğini öğreniyor ve her bir değişkenin veri tipini kontrol ediyoruz.*"
   ]
  },
  {
   "cell_type": "code",
   "execution_count": 3,
   "id": "d77a842a",
   "metadata": {
    "execution": {
     "iopub.execute_input": "2025-05-21T20:29:56.615052Z",
     "iopub.status.busy": "2025-05-21T20:29:56.614801Z",
     "iopub.status.idle": "2025-05-21T20:29:56.635743Z",
     "shell.execute_reply": "2025-05-21T20:29:56.634953Z"
    },
    "papermill": {
     "duration": 0.028779,
     "end_time": "2025-05-21T20:29:56.636938",
     "exception": false,
     "start_time": "2025-05-21T20:29:56.608159",
     "status": "completed"
    },
    "tags": []
   },
   "outputs": [
    {
     "name": "stdout",
     "output_type": "stream",
     "text": [
      "Veri setinin ilk 5 satırı:\n"
     ]
    },
    {
     "data": {
      "text/html": [
       "<div>\n",
       "<style scoped>\n",
       "    .dataframe tbody tr th:only-of-type {\n",
       "        vertical-align: middle;\n",
       "    }\n",
       "\n",
       "    .dataframe tbody tr th {\n",
       "        vertical-align: top;\n",
       "    }\n",
       "\n",
       "    .dataframe thead th {\n",
       "        text-align: right;\n",
       "    }\n",
       "</style>\n",
       "<table border=\"1\" class=\"dataframe\">\n",
       "  <thead>\n",
       "    <tr style=\"text-align: right;\">\n",
       "      <th></th>\n",
       "      <th>age;\"job\";\"marital\";\"education\";\"default\";\"housing\";\"loan\";\"contact\";\"month\";\"day_of_week\";\"duration\";\"campaign\";\"pdays\";\"previous\";\"poutcome\";\"emp.var.rate\";\"cons.price.idx\";\"cons.conf.idx\";\"euribor3m\";\"nr.employed\";\"y\"</th>\n",
       "    </tr>\n",
       "  </thead>\n",
       "  <tbody>\n",
       "    <tr>\n",
       "      <th>32884</th>\n",
       "      <td>57;\"technician\";\"married\";\"high.school\";\"no\";\"...</td>\n",
       "    </tr>\n",
       "    <tr>\n",
       "      <th>3169</th>\n",
       "      <td>55;\"unknown\";\"married\";\"unknown\";\"unknown\";\"ye...</td>\n",
       "    </tr>\n",
       "    <tr>\n",
       "      <th>32206</th>\n",
       "      <td>33;\"blue-collar\";\"married\";\"basic.9y\";\"no\";\"no...</td>\n",
       "    </tr>\n",
       "    <tr>\n",
       "      <th>9403</th>\n",
       "      <td>36;\"admin.\";\"married\";\"high.school\";\"no\";\"no\";...</td>\n",
       "    </tr>\n",
       "    <tr>\n",
       "      <th>14020</th>\n",
       "      <td>27;\"housemaid\";\"married\";\"high.school\";\"no\";\"y...</td>\n",
       "    </tr>\n",
       "  </tbody>\n",
       "</table>\n",
       "</div>"
      ],
      "text/plain": [
       "      age;\"job\";\"marital\";\"education\";\"default\";\"housing\";\"loan\";\"contact\";\"month\";\"day_of_week\";\"duration\";\"campaign\";\"pdays\";\"previous\";\"poutcome\";\"emp.var.rate\";\"cons.price.idx\";\"cons.conf.idx\";\"euribor3m\";\"nr.employed\";\"y\"\n",
       "32884  57;\"technician\";\"married\";\"high.school\";\"no\";\"...                                                                                                                                                                          \n",
       "3169   55;\"unknown\";\"married\";\"unknown\";\"unknown\";\"ye...                                                                                                                                                                          \n",
       "32206  33;\"blue-collar\";\"married\";\"basic.9y\";\"no\";\"no...                                                                                                                                                                          \n",
       "9403   36;\"admin.\";\"married\";\"high.school\";\"no\";\"no\";...                                                                                                                                                                          \n",
       "14020  27;\"housemaid\";\"married\";\"high.school\";\"no\";\"y...                                                                                                                                                                          "
      ]
     },
     "metadata": {},
     "output_type": "display_data"
    },
    {
     "name": "stdout",
     "output_type": "stream",
     "text": [
      "\n",
      "Veri seti boyutu: (20000, 1)\n",
      "\n",
      "Değişken tipleri:\n",
      "age;\"job\";\"marital\";\"education\";\"default\";\"housing\";\"loan\";\"contact\";\"month\";\"day_of_week\";\"duration\";\"campaign\";\"pdays\";\"previous\";\"poutcome\";\"emp.var.rate\";\"cons.price.idx\";\"cons.conf.idx\";\"euribor3m\";\"nr.employed\";\"y\"    object\n",
      "dtype: object\n"
     ]
    }
   ],
   "source": [
    "# Veri setinin ilk 5 satırını görüntüledim\n",
    "print(\"Veri setinin ilk 5 satırı:\")\n",
    "display(data.head())\n",
    "\n",
    "# Kaç satır ve sütundan oluştuğuna baktım\n",
    "print(\"\\nVeri seti boyutu:\", data.shape)\n",
    "\n",
    "# Hangi sütunun hangi veri türünde olduğunu inceledim\n",
    "print(\"\\nDeğişken tipleri:\")\n",
    "print(data.dtypes)"
   ]
  },
  {
   "cell_type": "markdown",
   "id": "46dfd097",
   "metadata": {
    "papermill": {
     "duration": 0.006505,
     "end_time": "2025-05-21T20:29:56.650155",
     "exception": false,
     "start_time": "2025-05-21T20:29:56.643650",
     "status": "completed"
    },
    "tags": []
   },
   "source": [
    "## Bu adımlarla:\n",
    "##### Veride neler olduğunu genel olarak görmüş oluyoruz.\n",
    "\n",
    "##### Hangi sütunların sayısal, hangilerinin kategorik olduğunu anlayarak sonraki ön işleme adımlarına zemin hazırlıyoruz.\n",
    "\n",
    "##### Eksik ya da beklenmedik veri türleri varsa erkenden fark etme şansımız oluyor."
   ]
  },
  {
   "cell_type": "markdown",
   "id": "e3524738",
   "metadata": {
    "papermill": {
     "duration": 0.006181,
     "end_time": "2025-05-21T20:29:56.664081",
     "exception": false,
     "start_time": "2025-05-21T20:29:56.657900",
     "status": "completed"
    },
    "tags": []
   },
   "source": [
    "# Verinin Daha Doğru Okunması ve Sütun Adlarının Türkçeleştirilmesi\n",
    "\n",
    "> ### *Veri seti varsayılan olarak ; ile ayrılmış ve bazı sütunlarda tırnak işaretleri veya binlik ayraçlar içerebilir. Bu nedenle, veriyi daha doğru ve hatasız şekilde yüklemek için read_csv() fonksiyonunda bazı özel parametreler kullandım.* *Ayrıca analiz sürecinde daha rahat çalışmak adına sütun isimlerini Türkçeye çevirdim. Bu sayede sütunlar daha anlaşılır hale geldi.*\n"
   ]
  },
  {
   "cell_type": "code",
   "execution_count": 4,
   "id": "896c4ef0",
   "metadata": {
    "execution": {
     "iopub.execute_input": "2025-05-21T20:29:56.677262Z",
     "iopub.status.busy": "2025-05-21T20:29:56.677008Z",
     "iopub.status.idle": "2025-05-21T20:29:56.762966Z",
     "shell.execute_reply": "2025-05-21T20:29:56.762320Z"
    },
    "papermill": {
     "duration": 0.094167,
     "end_time": "2025-05-21T20:29:56.764301",
     "exception": false,
     "start_time": "2025-05-21T20:29:56.670134",
     "status": "completed"
    },
    "tags": []
   },
   "outputs": [],
   "source": [
    "# CSV dosyasını doğru biçimde okuyorum\n",
    "data = pd.read_csv('/kaggle/input/bank-churn/bank-additional-full.csv', \n",
    "                 sep=';', \n",
    "                 quotechar='\"',\n",
    "                 thousands=',',  # Sayısal değerlerde binlik ayracı varsa\n",
    "                 encoding='utf-8')\n",
    "\n",
    "# Sütun adlarını Türkçeleştirdim\n",
    "column_translation = {\n",
    "    'age': 'Yaş',\n",
    "    'job': 'Meslek',\n",
    "    'marital': 'Medeni Durum',\n",
    "    'education': 'Eğitim Seviyesi',\n",
    "    'default': 'Kredi Geçmişi',\n",
    "    'housing': 'Konut Kredisi',\n",
    "    'loan': 'Bireysel Kredi',\n",
    "    'contact': 'İletişim Türü',\n",
    "    'month': 'Ay',\n",
    "    'day_of_week': 'Haftanın Günü',\n",
    "    'duration': 'Görüşme Süresi (sn)',\n",
    "    'campaign': 'Kampanya Temas Sayısı',\n",
    "    'pdays': 'Önceki Temastan Sonra Geçen Gün',\n",
    "    'previous': 'Önceki Kampanya Temas Sayısı',\n",
    "    'poutcome': 'Önceki Kampanya Sonucu',\n",
    "    'emp.var.rate': 'İstihdam Değişim Oranı',\n",
    "    'cons.price.idx': 'Tüketici Fiyat Endeksi',\n",
    "    'cons.conf.idx': 'Tüketici Güven Endeksi',\n",
    "    'euribor3m': '3 Aylık EURIBOR Oranı',\n",
    "    'nr.employed': 'Çalışan Sayısı',\n",
    "    'y': 'Mevduat Aboneliği'\n",
    "}\n",
    "\n",
    "# Yeni sütun isimlerini uyguluyorum\n",
    "data = data.rename(columns=column_translation)"
   ]
  },
  {
   "cell_type": "markdown",
   "id": "c3aa3181",
   "metadata": {
    "papermill": {
     "duration": 0.006237,
     "end_time": "2025-05-21T20:29:56.776966",
     "exception": false,
     "start_time": "2025-05-21T20:29:56.770729",
     "status": "completed"
    },
    "tags": []
   },
   "source": [
    "## Bu adımla:\n",
    "##### *CSV dosyasındaki olası biçimlendirme sorunlarını engelledim.*\n",
    "\n",
    "##### *Daha okunabilir ve anlaşılır sütun adları sayesinde analiz sürecini kolaylaştırdım.*"
   ]
  },
  {
   "cell_type": "markdown",
   "id": "aba42798",
   "metadata": {
    "papermill": {
     "duration": 0.005936,
     "end_time": "2025-05-21T20:29:56.789338",
     "exception": false,
     "start_time": "2025-05-21T20:29:56.783402",
     "status": "completed"
    },
    "tags": []
   },
   "source": [
    "# Kategorik Değişkenlerin Türkçeleştirilmesi\n",
    "### > Veri setinde bazı sütunlar İngilizce kategorik etiketler içeriyor. Bu etiketleri Türkçeye çevirerek veriyi daha okunabilir ve anlaşılır hale getirdim. Bu sayede grafik ve raporlarda doğrudan Türkçe ifadeler kullanılabilir hale geldi."
   ]
  },
  {
   "cell_type": "code",
   "execution_count": 5,
   "id": "af1de729",
   "metadata": {
    "execution": {
     "iopub.execute_input": "2025-05-21T20:29:56.802851Z",
     "iopub.status.busy": "2025-05-21T20:29:56.802567Z",
     "iopub.status.idle": "2025-05-21T20:29:56.832160Z",
     "shell.execute_reply": "2025-05-21T20:29:56.831667Z"
    },
    "papermill": {
     "duration": 0.03768,
     "end_time": "2025-05-21T20:29:56.833221",
     "exception": false,
     "start_time": "2025-05-21T20:29:56.795541",
     "status": "completed"
    },
    "tags": []
   },
   "outputs": [],
   "source": [
    "# Meslek bilgilerini Türkçeye çevirdim\n",
    "meslek_ceviri = {\n",
    "    'admin.': 'Yönetici',\n",
    "    'blue-collar': 'Mavi Yakalı',\n",
    "    'technician': 'Teknisyen',\n",
    "    'services': 'Hizmet',\n",
    "    'management': 'Üst Düzey Yönetici',\n",
    "    'retired': 'Emekli',\n",
    "    'entrepreneur': 'Girişimci',\n",
    "    'self-employed': 'Serbest Meslek',\n",
    "    'housemaid': 'Ev Hizmetleri',\n",
    "    'unemployed': 'İşsiz',\n",
    "    'student': 'Öğrenci',\n",
    "    'unknown': 'Bilinmiyor'\n",
    "}\n",
    "\n",
    "data['Meslek'] = data['Meslek'].map(meslek_ceviri)\n",
    "\n",
    "# Medeni durum bilgilerini çevirdim\n",
    "data['Medeni Durum'] = data['Medeni Durum'].map({\n",
    "    'married': 'Evli',\n",
    "    'single': 'Bekar',\n",
    "    'divorced': 'Boşanmış',\n",
    "    'unknown': 'Bilinmiyor'\n",
    "})\n",
    "\n",
    "# Eğitim seviyelerini daha açıklayıcı hale getirdim\n",
    "data['Eğitim Seviyesi'] = data['Eğitim Seviyesi'].str.replace('basic.', 'Temel Eğitim ')\n",
    "data['Eğitim Seviyesi'] = data['Eğitim Seviyesi'].replace({\n",
    "    'high.school': 'Lise',\n",
    "    'university.degree': 'Üniversite',\n",
    "    'professional.course': 'Mesleki Kurs',\n",
    "    'unknown': 'Bilinmiyor'\n",
    "})\n",
    "\n",
    "# Hedef değişken olan 'Mevduat Aboneliği' değerlerini çevirdim\n",
    "data['Mevduat Aboneliği'] = data['Mevduat Aboneliği'].map({\n",
    "    'yes': 'Evet',\n",
    "    'no': 'Hayır'\n",
    "})"
   ]
  },
  {
   "cell_type": "markdown",
   "id": "a5e99dd4",
   "metadata": {
    "papermill": {
     "duration": 0.005657,
     "end_time": "2025-05-21T20:29:56.844982",
     "exception": false,
     "start_time": "2025-05-21T20:29:56.839325",
     "status": "completed"
    },
    "tags": []
   },
   "source": [
    "## Bu adımlarla:\n",
    "##### Görselleştirmelerde ve sonuç raporlarında daha anlaşılır etiketler elde ettim.\n",
    "\n",
    "##### Özellikle hedef değişkenin (“Mevduat Aboneliği”) Türkçeleştirilmesi, model yorumlamasını kolaylaştırdı."
   ]
  },
  {
   "cell_type": "markdown",
   "id": "66bfcccb",
   "metadata": {
    "papermill": {
     "duration": 0.005551,
     "end_time": "2025-05-21T20:29:56.856219",
     "exception": false,
     "start_time": "2025-05-21T20:29:56.850668",
     "status": "completed"
    },
    "tags": []
   },
   "source": [
    "# Daha Okunaklı Önizleme Fonksiyonu\n",
    "#### > Verinin ilk birkaç satırına tekrar göz atmak istedim ama bu kez daha okunabilir ve sade bir görünümle. Bu amaçla, kendi küçük fonksiyonumu yazdım. Bu fonksiyon sayesinde sütun başlıkları ve hücreler sola yaslı bir şekilde gösteriliyor, bu da tabloyu daha profesyonel ve rahat okunur hale getiriyor."
   ]
  },
  {
   "cell_type": "code",
   "execution_count": 6,
   "id": "d7a0232d",
   "metadata": {
    "execution": {
     "iopub.execute_input": "2025-05-21T20:29:56.868698Z",
     "iopub.status.busy": "2025-05-21T20:29:56.868434Z",
     "iopub.status.idle": "2025-05-21T20:29:56.999069Z",
     "shell.execute_reply": "2025-05-21T20:29:56.998361Z"
    },
    "papermill": {
     "duration": 0.138376,
     "end_time": "2025-05-21T20:29:57.000276",
     "exception": false,
     "start_time": "2025-05-21T20:29:56.861900",
     "status": "completed"
    },
    "tags": []
   },
   "outputs": [
    {
     "data": {
      "text/html": [
       "<style type=\"text/css\">\n",
       "#T_20023 th {\n",
       "  text-align: left;\n",
       "}\n",
       "#T_20023_row0_col0, #T_20023_row0_col1, #T_20023_row0_col2, #T_20023_row0_col3, #T_20023_row0_col4, #T_20023_row0_col5, #T_20023_row0_col6, #T_20023_row0_col7, #T_20023_row0_col8, #T_20023_row0_col9, #T_20023_row0_col10, #T_20023_row0_col11, #T_20023_row0_col12, #T_20023_row0_col13, #T_20023_row0_col14, #T_20023_row0_col15, #T_20023_row0_col16, #T_20023_row0_col17, #T_20023_row0_col18, #T_20023_row0_col19, #T_20023_row0_col20, #T_20023_row1_col0, #T_20023_row1_col1, #T_20023_row1_col2, #T_20023_row1_col3, #T_20023_row1_col4, #T_20023_row1_col5, #T_20023_row1_col6, #T_20023_row1_col7, #T_20023_row1_col8, #T_20023_row1_col9, #T_20023_row1_col10, #T_20023_row1_col11, #T_20023_row1_col12, #T_20023_row1_col13, #T_20023_row1_col14, #T_20023_row1_col15, #T_20023_row1_col16, #T_20023_row1_col17, #T_20023_row1_col18, #T_20023_row1_col19, #T_20023_row1_col20, #T_20023_row2_col0, #T_20023_row2_col1, #T_20023_row2_col2, #T_20023_row2_col3, #T_20023_row2_col4, #T_20023_row2_col5, #T_20023_row2_col6, #T_20023_row2_col7, #T_20023_row2_col8, #T_20023_row2_col9, #T_20023_row2_col10, #T_20023_row2_col11, #T_20023_row2_col12, #T_20023_row2_col13, #T_20023_row2_col14, #T_20023_row2_col15, #T_20023_row2_col16, #T_20023_row2_col17, #T_20023_row2_col18, #T_20023_row2_col19, #T_20023_row2_col20, #T_20023_row3_col0, #T_20023_row3_col1, #T_20023_row3_col2, #T_20023_row3_col3, #T_20023_row3_col4, #T_20023_row3_col5, #T_20023_row3_col6, #T_20023_row3_col7, #T_20023_row3_col8, #T_20023_row3_col9, #T_20023_row3_col10, #T_20023_row3_col11, #T_20023_row3_col12, #T_20023_row3_col13, #T_20023_row3_col14, #T_20023_row3_col15, #T_20023_row3_col16, #T_20023_row3_col17, #T_20023_row3_col18, #T_20023_row3_col19, #T_20023_row3_col20, #T_20023_row4_col0, #T_20023_row4_col1, #T_20023_row4_col2, #T_20023_row4_col3, #T_20023_row4_col4, #T_20023_row4_col5, #T_20023_row4_col6, #T_20023_row4_col7, #T_20023_row4_col8, #T_20023_row4_col9, #T_20023_row4_col10, #T_20023_row4_col11, #T_20023_row4_col12, #T_20023_row4_col13, #T_20023_row4_col14, #T_20023_row4_col15, #T_20023_row4_col16, #T_20023_row4_col17, #T_20023_row4_col18, #T_20023_row4_col19, #T_20023_row4_col20 {\n",
       "  text-align: left;\n",
       "}\n",
       "</style>\n",
       "<table id=\"T_20023\">\n",
       "  <thead>\n",
       "    <tr>\n",
       "      <th class=\"blank level0\" >&nbsp;</th>\n",
       "      <th id=\"T_20023_level0_col0\" class=\"col_heading level0 col0\" >Yaş</th>\n",
       "      <th id=\"T_20023_level0_col1\" class=\"col_heading level0 col1\" >Meslek</th>\n",
       "      <th id=\"T_20023_level0_col2\" class=\"col_heading level0 col2\" >Medeni Durum</th>\n",
       "      <th id=\"T_20023_level0_col3\" class=\"col_heading level0 col3\" >Eğitim Seviyesi</th>\n",
       "      <th id=\"T_20023_level0_col4\" class=\"col_heading level0 col4\" >Kredi Geçmişi</th>\n",
       "      <th id=\"T_20023_level0_col5\" class=\"col_heading level0 col5\" >Konut Kredisi</th>\n",
       "      <th id=\"T_20023_level0_col6\" class=\"col_heading level0 col6\" >Bireysel Kredi</th>\n",
       "      <th id=\"T_20023_level0_col7\" class=\"col_heading level0 col7\" >İletişim Türü</th>\n",
       "      <th id=\"T_20023_level0_col8\" class=\"col_heading level0 col8\" >Ay</th>\n",
       "      <th id=\"T_20023_level0_col9\" class=\"col_heading level0 col9\" >Haftanın Günü</th>\n",
       "      <th id=\"T_20023_level0_col10\" class=\"col_heading level0 col10\" >Görüşme Süresi (sn)</th>\n",
       "      <th id=\"T_20023_level0_col11\" class=\"col_heading level0 col11\" >Kampanya Temas Sayısı</th>\n",
       "      <th id=\"T_20023_level0_col12\" class=\"col_heading level0 col12\" >Önceki Temastan Sonra Geçen Gün</th>\n",
       "      <th id=\"T_20023_level0_col13\" class=\"col_heading level0 col13\" >Önceki Kampanya Temas Sayısı</th>\n",
       "      <th id=\"T_20023_level0_col14\" class=\"col_heading level0 col14\" >Önceki Kampanya Sonucu</th>\n",
       "      <th id=\"T_20023_level0_col15\" class=\"col_heading level0 col15\" >İstihdam Değişim Oranı</th>\n",
       "      <th id=\"T_20023_level0_col16\" class=\"col_heading level0 col16\" >Tüketici Fiyat Endeksi</th>\n",
       "      <th id=\"T_20023_level0_col17\" class=\"col_heading level0 col17\" >Tüketici Güven Endeksi</th>\n",
       "      <th id=\"T_20023_level0_col18\" class=\"col_heading level0 col18\" >3 Aylık EURIBOR Oranı</th>\n",
       "      <th id=\"T_20023_level0_col19\" class=\"col_heading level0 col19\" >Çalışan Sayısı</th>\n",
       "      <th id=\"T_20023_level0_col20\" class=\"col_heading level0 col20\" >Mevduat Aboneliği</th>\n",
       "    </tr>\n",
       "  </thead>\n",
       "  <tbody>\n",
       "    <tr>\n",
       "      <th id=\"T_20023_level0_row0\" class=\"row_heading level0 row0\" >0</th>\n",
       "      <td id=\"T_20023_row0_col0\" class=\"data row0 col0\" >56</td>\n",
       "      <td id=\"T_20023_row0_col1\" class=\"data row0 col1\" >Ev Hizmetleri</td>\n",
       "      <td id=\"T_20023_row0_col2\" class=\"data row0 col2\" >Evli</td>\n",
       "      <td id=\"T_20023_row0_col3\" class=\"data row0 col3\" >Temel Eğitim 4y</td>\n",
       "      <td id=\"T_20023_row0_col4\" class=\"data row0 col4\" >no</td>\n",
       "      <td id=\"T_20023_row0_col5\" class=\"data row0 col5\" >no</td>\n",
       "      <td id=\"T_20023_row0_col6\" class=\"data row0 col6\" >no</td>\n",
       "      <td id=\"T_20023_row0_col7\" class=\"data row0 col7\" >telephone</td>\n",
       "      <td id=\"T_20023_row0_col8\" class=\"data row0 col8\" >may</td>\n",
       "      <td id=\"T_20023_row0_col9\" class=\"data row0 col9\" >mon</td>\n",
       "      <td id=\"T_20023_row0_col10\" class=\"data row0 col10\" >261</td>\n",
       "      <td id=\"T_20023_row0_col11\" class=\"data row0 col11\" >1</td>\n",
       "      <td id=\"T_20023_row0_col12\" class=\"data row0 col12\" >999</td>\n",
       "      <td id=\"T_20023_row0_col13\" class=\"data row0 col13\" >0</td>\n",
       "      <td id=\"T_20023_row0_col14\" class=\"data row0 col14\" >nonexistent</td>\n",
       "      <td id=\"T_20023_row0_col15\" class=\"data row0 col15\" >1.100000</td>\n",
       "      <td id=\"T_20023_row0_col16\" class=\"data row0 col16\" >93.994000</td>\n",
       "      <td id=\"T_20023_row0_col17\" class=\"data row0 col17\" >-36.400000</td>\n",
       "      <td id=\"T_20023_row0_col18\" class=\"data row0 col18\" >4.857000</td>\n",
       "      <td id=\"T_20023_row0_col19\" class=\"data row0 col19\" >5191.000000</td>\n",
       "      <td id=\"T_20023_row0_col20\" class=\"data row0 col20\" >Hayır</td>\n",
       "    </tr>\n",
       "    <tr>\n",
       "      <th id=\"T_20023_level0_row1\" class=\"row_heading level0 row1\" >1</th>\n",
       "      <td id=\"T_20023_row1_col0\" class=\"data row1 col0\" >57</td>\n",
       "      <td id=\"T_20023_row1_col1\" class=\"data row1 col1\" >Hizmet</td>\n",
       "      <td id=\"T_20023_row1_col2\" class=\"data row1 col2\" >Evli</td>\n",
       "      <td id=\"T_20023_row1_col3\" class=\"data row1 col3\" >Lise</td>\n",
       "      <td id=\"T_20023_row1_col4\" class=\"data row1 col4\" >unknown</td>\n",
       "      <td id=\"T_20023_row1_col5\" class=\"data row1 col5\" >no</td>\n",
       "      <td id=\"T_20023_row1_col6\" class=\"data row1 col6\" >no</td>\n",
       "      <td id=\"T_20023_row1_col7\" class=\"data row1 col7\" >telephone</td>\n",
       "      <td id=\"T_20023_row1_col8\" class=\"data row1 col8\" >may</td>\n",
       "      <td id=\"T_20023_row1_col9\" class=\"data row1 col9\" >mon</td>\n",
       "      <td id=\"T_20023_row1_col10\" class=\"data row1 col10\" >149</td>\n",
       "      <td id=\"T_20023_row1_col11\" class=\"data row1 col11\" >1</td>\n",
       "      <td id=\"T_20023_row1_col12\" class=\"data row1 col12\" >999</td>\n",
       "      <td id=\"T_20023_row1_col13\" class=\"data row1 col13\" >0</td>\n",
       "      <td id=\"T_20023_row1_col14\" class=\"data row1 col14\" >nonexistent</td>\n",
       "      <td id=\"T_20023_row1_col15\" class=\"data row1 col15\" >1.100000</td>\n",
       "      <td id=\"T_20023_row1_col16\" class=\"data row1 col16\" >93.994000</td>\n",
       "      <td id=\"T_20023_row1_col17\" class=\"data row1 col17\" >-36.400000</td>\n",
       "      <td id=\"T_20023_row1_col18\" class=\"data row1 col18\" >4.857000</td>\n",
       "      <td id=\"T_20023_row1_col19\" class=\"data row1 col19\" >5191.000000</td>\n",
       "      <td id=\"T_20023_row1_col20\" class=\"data row1 col20\" >Hayır</td>\n",
       "    </tr>\n",
       "    <tr>\n",
       "      <th id=\"T_20023_level0_row2\" class=\"row_heading level0 row2\" >2</th>\n",
       "      <td id=\"T_20023_row2_col0\" class=\"data row2 col0\" >37</td>\n",
       "      <td id=\"T_20023_row2_col1\" class=\"data row2 col1\" >Hizmet</td>\n",
       "      <td id=\"T_20023_row2_col2\" class=\"data row2 col2\" >Evli</td>\n",
       "      <td id=\"T_20023_row2_col3\" class=\"data row2 col3\" >Lise</td>\n",
       "      <td id=\"T_20023_row2_col4\" class=\"data row2 col4\" >no</td>\n",
       "      <td id=\"T_20023_row2_col5\" class=\"data row2 col5\" >yes</td>\n",
       "      <td id=\"T_20023_row2_col6\" class=\"data row2 col6\" >no</td>\n",
       "      <td id=\"T_20023_row2_col7\" class=\"data row2 col7\" >telephone</td>\n",
       "      <td id=\"T_20023_row2_col8\" class=\"data row2 col8\" >may</td>\n",
       "      <td id=\"T_20023_row2_col9\" class=\"data row2 col9\" >mon</td>\n",
       "      <td id=\"T_20023_row2_col10\" class=\"data row2 col10\" >226</td>\n",
       "      <td id=\"T_20023_row2_col11\" class=\"data row2 col11\" >1</td>\n",
       "      <td id=\"T_20023_row2_col12\" class=\"data row2 col12\" >999</td>\n",
       "      <td id=\"T_20023_row2_col13\" class=\"data row2 col13\" >0</td>\n",
       "      <td id=\"T_20023_row2_col14\" class=\"data row2 col14\" >nonexistent</td>\n",
       "      <td id=\"T_20023_row2_col15\" class=\"data row2 col15\" >1.100000</td>\n",
       "      <td id=\"T_20023_row2_col16\" class=\"data row2 col16\" >93.994000</td>\n",
       "      <td id=\"T_20023_row2_col17\" class=\"data row2 col17\" >-36.400000</td>\n",
       "      <td id=\"T_20023_row2_col18\" class=\"data row2 col18\" >4.857000</td>\n",
       "      <td id=\"T_20023_row2_col19\" class=\"data row2 col19\" >5191.000000</td>\n",
       "      <td id=\"T_20023_row2_col20\" class=\"data row2 col20\" >Hayır</td>\n",
       "    </tr>\n",
       "    <tr>\n",
       "      <th id=\"T_20023_level0_row3\" class=\"row_heading level0 row3\" >3</th>\n",
       "      <td id=\"T_20023_row3_col0\" class=\"data row3 col0\" >40</td>\n",
       "      <td id=\"T_20023_row3_col1\" class=\"data row3 col1\" >Yönetici</td>\n",
       "      <td id=\"T_20023_row3_col2\" class=\"data row3 col2\" >Evli</td>\n",
       "      <td id=\"T_20023_row3_col3\" class=\"data row3 col3\" >Temel Eğitim 6y</td>\n",
       "      <td id=\"T_20023_row3_col4\" class=\"data row3 col4\" >no</td>\n",
       "      <td id=\"T_20023_row3_col5\" class=\"data row3 col5\" >no</td>\n",
       "      <td id=\"T_20023_row3_col6\" class=\"data row3 col6\" >no</td>\n",
       "      <td id=\"T_20023_row3_col7\" class=\"data row3 col7\" >telephone</td>\n",
       "      <td id=\"T_20023_row3_col8\" class=\"data row3 col8\" >may</td>\n",
       "      <td id=\"T_20023_row3_col9\" class=\"data row3 col9\" >mon</td>\n",
       "      <td id=\"T_20023_row3_col10\" class=\"data row3 col10\" >151</td>\n",
       "      <td id=\"T_20023_row3_col11\" class=\"data row3 col11\" >1</td>\n",
       "      <td id=\"T_20023_row3_col12\" class=\"data row3 col12\" >999</td>\n",
       "      <td id=\"T_20023_row3_col13\" class=\"data row3 col13\" >0</td>\n",
       "      <td id=\"T_20023_row3_col14\" class=\"data row3 col14\" >nonexistent</td>\n",
       "      <td id=\"T_20023_row3_col15\" class=\"data row3 col15\" >1.100000</td>\n",
       "      <td id=\"T_20023_row3_col16\" class=\"data row3 col16\" >93.994000</td>\n",
       "      <td id=\"T_20023_row3_col17\" class=\"data row3 col17\" >-36.400000</td>\n",
       "      <td id=\"T_20023_row3_col18\" class=\"data row3 col18\" >4.857000</td>\n",
       "      <td id=\"T_20023_row3_col19\" class=\"data row3 col19\" >5191.000000</td>\n",
       "      <td id=\"T_20023_row3_col20\" class=\"data row3 col20\" >Hayır</td>\n",
       "    </tr>\n",
       "    <tr>\n",
       "      <th id=\"T_20023_level0_row4\" class=\"row_heading level0 row4\" >4</th>\n",
       "      <td id=\"T_20023_row4_col0\" class=\"data row4 col0\" >56</td>\n",
       "      <td id=\"T_20023_row4_col1\" class=\"data row4 col1\" >Hizmet</td>\n",
       "      <td id=\"T_20023_row4_col2\" class=\"data row4 col2\" >Evli</td>\n",
       "      <td id=\"T_20023_row4_col3\" class=\"data row4 col3\" >Lise</td>\n",
       "      <td id=\"T_20023_row4_col4\" class=\"data row4 col4\" >no</td>\n",
       "      <td id=\"T_20023_row4_col5\" class=\"data row4 col5\" >no</td>\n",
       "      <td id=\"T_20023_row4_col6\" class=\"data row4 col6\" >yes</td>\n",
       "      <td id=\"T_20023_row4_col7\" class=\"data row4 col7\" >telephone</td>\n",
       "      <td id=\"T_20023_row4_col8\" class=\"data row4 col8\" >may</td>\n",
       "      <td id=\"T_20023_row4_col9\" class=\"data row4 col9\" >mon</td>\n",
       "      <td id=\"T_20023_row4_col10\" class=\"data row4 col10\" >307</td>\n",
       "      <td id=\"T_20023_row4_col11\" class=\"data row4 col11\" >1</td>\n",
       "      <td id=\"T_20023_row4_col12\" class=\"data row4 col12\" >999</td>\n",
       "      <td id=\"T_20023_row4_col13\" class=\"data row4 col13\" >0</td>\n",
       "      <td id=\"T_20023_row4_col14\" class=\"data row4 col14\" >nonexistent</td>\n",
       "      <td id=\"T_20023_row4_col15\" class=\"data row4 col15\" >1.100000</td>\n",
       "      <td id=\"T_20023_row4_col16\" class=\"data row4 col16\" >93.994000</td>\n",
       "      <td id=\"T_20023_row4_col17\" class=\"data row4 col17\" >-36.400000</td>\n",
       "      <td id=\"T_20023_row4_col18\" class=\"data row4 col18\" >4.857000</td>\n",
       "      <td id=\"T_20023_row4_col19\" class=\"data row4 col19\" >5191.000000</td>\n",
       "      <td id=\"T_20023_row4_col20\" class=\"data row4 col20\" >Hayır</td>\n",
       "    </tr>\n",
       "  </tbody>\n",
       "</table>\n"
      ],
      "text/plain": [
       "<pandas.io.formats.style.Styler at 0x7908631bbc90>"
      ]
     },
     "metadata": {},
     "output_type": "display_data"
    }
   ],
   "source": [
    "# Daha sade ve okunabilir tablo görünümü için bir fonksiyon\n",
    "def show_data(data, rows=5):\n",
    "    display(data.head(rows).style\n",
    "        .set_properties(**{'text-align': 'left'})\n",
    "        .set_table_styles([{'selector': 'th', 'props': [('text-align', 'left')]}]))\n",
    "\n",
    "# Fonksiyonu çağırarak verinin ilk 5 satırı\n",
    "show_data(data)"
   ]
  },
  {
   "cell_type": "markdown",
   "id": "82ffd43f",
   "metadata": {
    "papermill": {
     "duration": 0.061734,
     "end_time": "2025-05-21T20:29:57.068762",
     "exception": false,
     "start_time": "2025-05-21T20:29:57.007028",
     "status": "completed"
    },
    "tags": []
   },
   "source": [
    "# Güncellenmiş Veriden Yeni Örneklem Alma\n",
    "> #### Veri seti üzerinde bazı çeviri ve temizlik işlemlerini yaptıktan sonra, bu güncel halinden tekrar 20.000 satırlık bir örnekleme alıyorum. Böylece analiz ve modelleme işlemlerinde hem Türkçeleştirilmiş hem de daha az satırlı, işlenmiş bir veri setiyle çalışmış oluyorum."
   ]
  },
  {
   "cell_type": "code",
   "execution_count": 7,
   "id": "f1dd9160",
   "metadata": {
    "execution": {
     "iopub.execute_input": "2025-05-21T20:29:57.082459Z",
     "iopub.status.busy": "2025-05-21T20:29:57.082109Z",
     "iopub.status.idle": "2025-05-21T20:29:57.095791Z",
     "shell.execute_reply": "2025-05-21T20:29:57.095069Z"
    },
    "papermill": {
     "duration": 0.021878,
     "end_time": "2025-05-21T20:29:57.096931",
     "exception": false,
     "start_time": "2025-05-21T20:29:57.075053",
     "status": "completed"
    },
    "tags": []
   },
   "outputs": [],
   "source": [
    "# Veri setini 20.000 satıra düşürme\n",
    "data = data.sample(n=20000, random_state=42)"
   ]
  },
  {
   "cell_type": "markdown",
   "id": "2b454963",
   "metadata": {
    "papermill": {
     "duration": 0.005989,
     "end_time": "2025-05-21T20:29:57.109330",
     "exception": false,
     "start_time": "2025-05-21T20:29:57.103341",
     "status": "completed"
    },
    "tags": []
   },
   "source": [
    "# Veri Setinin Güncel Boyutunu Kontrol Etme\n",
    "> #### Tüm ön işlemler ve örnekleme tamamlandıktan sonra, elimde kalan verinin kaç satır ve kaç sütundan oluştuğunu hızlıca kontrol ettim."
   ]
  },
  {
   "cell_type": "code",
   "execution_count": 8,
   "id": "a313df64",
   "metadata": {
    "execution": {
     "iopub.execute_input": "2025-05-21T20:29:57.124745Z",
     "iopub.status.busy": "2025-05-21T20:29:57.124137Z",
     "iopub.status.idle": "2025-05-21T20:29:57.128814Z",
     "shell.execute_reply": "2025-05-21T20:29:57.128209Z"
    },
    "papermill": {
     "duration": 0.014262,
     "end_time": "2025-05-21T20:29:57.129781",
     "exception": false,
     "start_time": "2025-05-21T20:29:57.115519",
     "status": "completed"
    },
    "tags": []
   },
   "outputs": [
    {
     "data": {
      "text/plain": [
       "(20000, 21)"
      ]
     },
     "execution_count": 8,
     "metadata": {},
     "output_type": "execute_result"
    }
   ],
   "source": [
    "data.shape"
   ]
  },
  {
   "cell_type": "markdown",
   "id": "db0e2a30",
   "metadata": {
    "papermill": {
     "duration": 0.006948,
     "end_time": "2025-05-21T20:29:57.144232",
     "exception": false,
     "start_time": "2025-05-21T20:29:57.137284",
     "status": "completed"
    },
    "tags": []
   },
   "source": [
    "# 📊 Veri Setine Genel Bakış ve Hedef Değişken Dağılımı\n",
    "> #### Modeli kurmadan önce verinin genel yapısını daha iyi anlamak için bazı temel istatistiklere baktım. Bu adımda hem veri setinin boyutunu hem de \"Mevduat Aboneliği\" hedef değişkeninin dağılımını inceledim."
   ]
  },
  {
   "cell_type": "code",
   "execution_count": 9,
   "id": "73654e9d",
   "metadata": {
    "execution": {
     "iopub.execute_input": "2025-05-21T20:29:57.158682Z",
     "iopub.status.busy": "2025-05-21T20:29:57.158429Z",
     "iopub.status.idle": "2025-05-21T20:29:57.166296Z",
     "shell.execute_reply": "2025-05-21T20:29:57.165685Z"
    },
    "papermill": {
     "duration": 0.016287,
     "end_time": "2025-05-21T20:29:57.167302",
     "exception": false,
     "start_time": "2025-05-21T20:29:57.151015",
     "status": "completed"
    },
    "tags": []
   },
   "outputs": [
    {
     "name": "stdout",
     "output_type": "stream",
     "text": [
      "Toplam gözlem sayısı: 20000\n",
      "Özellik sayısı: 21\n",
      "\n",
      "Hedef değişken dağılımı:\n",
      "Mevduat Aboneliği\n",
      "Hayır    0.8886\n",
      "Evet     0.1114\n",
      "Name: proportion, dtype: float64\n"
     ]
    }
   ],
   "source": [
    "# Veri setinin temel istatistikleri\n",
    "print(f\"Toplam gözlem sayısı: {data.shape[0]}\")\n",
    "print(f\"Özellik sayısı: {data.shape[1]}\")\n",
    "print(\"\\nHedef değişken dağılımı:\")\n",
    "print(data['Mevduat Aboneliği'].value_counts(normalize=True))"
   ]
  },
  {
   "cell_type": "markdown",
   "id": "4e202808",
   "metadata": {
    "papermill": {
     "duration": 0.005973,
     "end_time": "2025-05-21T20:29:57.179814",
     "exception": false,
     "start_time": "2025-05-21T20:29:57.173841",
     "status": "completed"
    },
    "tags": []
   },
   "source": [
    "## Bu adımla:\n",
    "##### Modelin dengesiz sınıflarla karşılaşıp karşılaşmayacağını önceden görebildim.\n",
    "\n",
    "##### Hedef değişkenin çoğunlukla hangi sınıfa ait olduğunu anlayarak modelin tahmin başarısını daha bilinçli yorumlayabileceğim."
   ]
  },
  {
   "cell_type": "markdown",
   "id": "8de07c6a",
   "metadata": {
    "papermill": {
     "duration": 0.006424,
     "end_time": "2025-05-21T20:29:57.192448",
     "exception": false,
     "start_time": "2025-05-21T20:29:57.186024",
     "status": "completed"
    },
    "tags": []
   },
   "source": [
    "# Eksik Veri ve Kategorik Değişkenlerin İncelenmesi\n",
    "> #### Veri kalitesi ve modelleme sürecinin sağlıklı ilerleyebilmesi için öncelikle eksik veri kontrolü yaptım. Ayrıca kategorik değişkenlerde kaç farklı benzersiz değer olduğunu kontrol ederek, veri çeşitliliği hakkında bilgi edindim."
   ]
  },
  {
   "cell_type": "code",
   "execution_count": 10,
   "id": "7aa23a37",
   "metadata": {
    "execution": {
     "iopub.execute_input": "2025-05-21T20:29:57.206070Z",
     "iopub.status.busy": "2025-05-21T20:29:57.205855Z",
     "iopub.status.idle": "2025-05-21T20:29:57.232849Z",
     "shell.execute_reply": "2025-05-21T20:29:57.232185Z"
    },
    "papermill": {
     "duration": 0.035114,
     "end_time": "2025-05-21T20:29:57.233910",
     "exception": false,
     "start_time": "2025-05-21T20:29:57.198796",
     "status": "completed"
    },
    "tags": []
   },
   "outputs": [
    {
     "name": "stdout",
     "output_type": "stream",
     "text": [
      "\n",
      "Eksik veri analizi:\n",
      "Yaş                                0\n",
      "Meslek                             0\n",
      "Medeni Durum                       0\n",
      "Eğitim Seviyesi                    0\n",
      "Kredi Geçmişi                      0\n",
      "Konut Kredisi                      0\n",
      "Bireysel Kredi                     0\n",
      "İletişim Türü                      0\n",
      "Ay                                 0\n",
      "Haftanın Günü                      0\n",
      "Görüşme Süresi (sn)                0\n",
      "Kampanya Temas Sayısı              0\n",
      "Önceki Temastan Sonra Geçen Gün    0\n",
      "Önceki Kampanya Temas Sayısı       0\n",
      "Önceki Kampanya Sonucu             0\n",
      "İstihdam Değişim Oranı             0\n",
      "Tüketici Fiyat Endeksi             0\n",
      "Tüketici Güven Endeksi             0\n",
      "3 Aylık EURIBOR Oranı              0\n",
      "Çalışan Sayısı                     0\n",
      "Mevduat Aboneliği                  0\n",
      "dtype: int64\n",
      "\n",
      "Kategorik değişkenlerin benzersiz değerleri:\n",
      "Meslek: 12 unique value\n",
      "Medeni Durum: 4 unique value\n",
      "Eğitim Seviyesi: 8 unique value\n",
      "Kredi Geçmişi: 3 unique value\n",
      "Konut Kredisi: 3 unique value\n",
      "Bireysel Kredi: 3 unique value\n",
      "İletişim Türü: 2 unique value\n",
      "Ay: 10 unique value\n",
      "Haftanın Günü: 5 unique value\n",
      "Önceki Kampanya Sonucu: 3 unique value\n",
      "Mevduat Aboneliği: 2 unique value\n"
     ]
    }
   ],
   "source": [
    "# Eksik veri kontrolü\n",
    "print(\"\\nEksik veri analizi:\")\n",
    "print(data.isnull().sum())\n",
    "\n",
    "# Kategorik değişken analizi\n",
    "print(\"\\nKategorik değişkenlerin benzersiz değerleri:\")\n",
    "for col in data.select_dtypes(include=['object']).columns:\n",
    "    print(f\"{col}: {data[col].nunique()} unique value\")"
   ]
  },
  {
   "cell_type": "markdown",
   "id": "ee68d441",
   "metadata": {
    "papermill": {
     "duration": 0.006045,
     "end_time": "2025-05-21T20:29:57.246538",
     "exception": false,
     "start_time": "2025-05-21T20:29:57.240493",
     "status": "completed"
    },
    "tags": []
   },
   "source": [
    "## Bu adımla:\n",
    "##### Veride eksik değer olup olmadığını netleştirdim, böylece gerekli önlemleri planlayabilirim.\n",
    "\n",
    "##### Kategorik sütunların çeşitliliğini öğrenerek, ön işleme ve kodlama yöntemlerini belirlemek için önemli ipuçları aldım."
   ]
  },
  {
   "cell_type": "markdown",
   "id": "999c7342",
   "metadata": {
    "papermill": {
     "duration": 0.00604,
     "end_time": "2025-05-21T20:29:57.258820",
     "exception": false,
     "start_time": "2025-05-21T20:29:57.252780",
     "status": "completed"
    },
    "tags": []
   },
   "source": [
    "# Hedef Değişkenin Kodlanması ve Kategorik Verilerin One-Hot Encoding ile Sayısallaştırılması\n",
    "\n",
    "> #### Makine öğrenmesi modelleri sayısal verilerle çalıştığı için hedef değişkenimizi ve kategorik değişkenlerimizi uygun şekilde kodladım. Öncelikle, hedef değişken olan “Mevduat Aboneliği”ni LabelEncoder ile 0 ve 1 değerlerine çevirdim. Ardından, kategorik değişkenlerde çoklu kategorilerin etkili bir şekilde modele dahil edilmesi için One-Hot Encoding uyguladım. Böylece her kategori için ayrı bir sütun oluşturuldu. drop_first=True parametresiyle gereksiz çoklu kolonlardan kaçınıp modelde multikolineariteyi azalttım.\n"
   ]
  },
  {
   "cell_type": "code",
   "execution_count": 11,
   "id": "ae23bd70",
   "metadata": {
    "execution": {
     "iopub.execute_input": "2025-05-21T20:29:57.272313Z",
     "iopub.status.busy": "2025-05-21T20:29:57.272099Z",
     "iopub.status.idle": "2025-05-21T20:29:57.310583Z",
     "shell.execute_reply": "2025-05-21T20:29:57.309944Z"
    },
    "papermill": {
     "duration": 0.046506,
     "end_time": "2025-05-21T20:29:57.311557",
     "exception": false,
     "start_time": "2025-05-21T20:29:57.265051",
     "status": "completed"
    },
    "tags": []
   },
   "outputs": [
    {
     "data": {
      "text/html": [
       "<div>\n",
       "<style scoped>\n",
       "    .dataframe tbody tr th:only-of-type {\n",
       "        vertical-align: middle;\n",
       "    }\n",
       "\n",
       "    .dataframe tbody tr th {\n",
       "        vertical-align: top;\n",
       "    }\n",
       "\n",
       "    .dataframe thead th {\n",
       "        text-align: right;\n",
       "    }\n",
       "</style>\n",
       "<table border=\"1\" class=\"dataframe\">\n",
       "  <thead>\n",
       "    <tr style=\"text-align: right;\">\n",
       "      <th></th>\n",
       "      <th>Yaş</th>\n",
       "      <th>Görüşme Süresi (sn)</th>\n",
       "      <th>Kampanya Temas Sayısı</th>\n",
       "      <th>Önceki Temastan Sonra Geçen Gün</th>\n",
       "      <th>Önceki Kampanya Temas Sayısı</th>\n",
       "      <th>İstihdam Değişim Oranı</th>\n",
       "      <th>Tüketici Fiyat Endeksi</th>\n",
       "      <th>Tüketici Güven Endeksi</th>\n",
       "      <th>3 Aylık EURIBOR Oranı</th>\n",
       "      <th>Çalışan Sayısı</th>\n",
       "      <th>...</th>\n",
       "      <th>Ay_may</th>\n",
       "      <th>Ay_nov</th>\n",
       "      <th>Ay_oct</th>\n",
       "      <th>Ay_sep</th>\n",
       "      <th>Haftanın Günü_mon</th>\n",
       "      <th>Haftanın Günü_thu</th>\n",
       "      <th>Haftanın Günü_tue</th>\n",
       "      <th>Haftanın Günü_wed</th>\n",
       "      <th>Önceki Kampanya Sonucu_nonexistent</th>\n",
       "      <th>Önceki Kampanya Sonucu_success</th>\n",
       "    </tr>\n",
       "  </thead>\n",
       "  <tbody>\n",
       "    <tr>\n",
       "      <th>32884</th>\n",
       "      <td>57</td>\n",
       "      <td>371</td>\n",
       "      <td>1</td>\n",
       "      <td>999</td>\n",
       "      <td>1</td>\n",
       "      <td>-1.8</td>\n",
       "      <td>92.893</td>\n",
       "      <td>-46.2</td>\n",
       "      <td>1.299</td>\n",
       "      <td>5099.1</td>\n",
       "      <td>...</td>\n",
       "      <td>True</td>\n",
       "      <td>False</td>\n",
       "      <td>False</td>\n",
       "      <td>False</td>\n",
       "      <td>True</td>\n",
       "      <td>False</td>\n",
       "      <td>False</td>\n",
       "      <td>False</td>\n",
       "      <td>False</td>\n",
       "      <td>False</td>\n",
       "    </tr>\n",
       "    <tr>\n",
       "      <th>3169</th>\n",
       "      <td>55</td>\n",
       "      <td>285</td>\n",
       "      <td>2</td>\n",
       "      <td>999</td>\n",
       "      <td>0</td>\n",
       "      <td>1.1</td>\n",
       "      <td>93.994</td>\n",
       "      <td>-36.4</td>\n",
       "      <td>4.860</td>\n",
       "      <td>5191.0</td>\n",
       "      <td>...</td>\n",
       "      <td>True</td>\n",
       "      <td>False</td>\n",
       "      <td>False</td>\n",
       "      <td>False</td>\n",
       "      <td>False</td>\n",
       "      <td>True</td>\n",
       "      <td>False</td>\n",
       "      <td>False</td>\n",
       "      <td>True</td>\n",
       "      <td>False</td>\n",
       "    </tr>\n",
       "    <tr>\n",
       "      <th>32206</th>\n",
       "      <td>33</td>\n",
       "      <td>52</td>\n",
       "      <td>1</td>\n",
       "      <td>999</td>\n",
       "      <td>1</td>\n",
       "      <td>-1.8</td>\n",
       "      <td>92.893</td>\n",
       "      <td>-46.2</td>\n",
       "      <td>1.313</td>\n",
       "      <td>5099.1</td>\n",
       "      <td>...</td>\n",
       "      <td>True</td>\n",
       "      <td>False</td>\n",
       "      <td>False</td>\n",
       "      <td>False</td>\n",
       "      <td>False</td>\n",
       "      <td>False</td>\n",
       "      <td>False</td>\n",
       "      <td>False</td>\n",
       "      <td>False</td>\n",
       "      <td>False</td>\n",
       "    </tr>\n",
       "    <tr>\n",
       "      <th>9403</th>\n",
       "      <td>36</td>\n",
       "      <td>355</td>\n",
       "      <td>4</td>\n",
       "      <td>999</td>\n",
       "      <td>0</td>\n",
       "      <td>1.4</td>\n",
       "      <td>94.465</td>\n",
       "      <td>-41.8</td>\n",
       "      <td>4.967</td>\n",
       "      <td>5228.1</td>\n",
       "      <td>...</td>\n",
       "      <td>False</td>\n",
       "      <td>False</td>\n",
       "      <td>False</td>\n",
       "      <td>False</td>\n",
       "      <td>False</td>\n",
       "      <td>False</td>\n",
       "      <td>False</td>\n",
       "      <td>False</td>\n",
       "      <td>True</td>\n",
       "      <td>False</td>\n",
       "    </tr>\n",
       "    <tr>\n",
       "      <th>14020</th>\n",
       "      <td>27</td>\n",
       "      <td>189</td>\n",
       "      <td>2</td>\n",
       "      <td>999</td>\n",
       "      <td>0</td>\n",
       "      <td>1.4</td>\n",
       "      <td>93.918</td>\n",
       "      <td>-42.7</td>\n",
       "      <td>4.963</td>\n",
       "      <td>5228.1</td>\n",
       "      <td>...</td>\n",
       "      <td>False</td>\n",
       "      <td>False</td>\n",
       "      <td>False</td>\n",
       "      <td>False</td>\n",
       "      <td>False</td>\n",
       "      <td>False</td>\n",
       "      <td>False</td>\n",
       "      <td>False</td>\n",
       "      <td>True</td>\n",
       "      <td>False</td>\n",
       "    </tr>\n",
       "  </tbody>\n",
       "</table>\n",
       "<p>5 rows × 54 columns</p>\n",
       "</div>"
      ],
      "text/plain": [
       "       Yaş  Görüşme Süresi (sn)  Kampanya Temas Sayısı  \\\n",
       "32884   57                  371                      1   \n",
       "3169    55                  285                      2   \n",
       "32206   33                   52                      1   \n",
       "9403    36                  355                      4   \n",
       "14020   27                  189                      2   \n",
       "\n",
       "       Önceki Temastan Sonra Geçen Gün  Önceki Kampanya Temas Sayısı  \\\n",
       "32884                              999                             1   \n",
       "3169                               999                             0   \n",
       "32206                              999                             1   \n",
       "9403                               999                             0   \n",
       "14020                              999                             0   \n",
       "\n",
       "       İstihdam Değişim Oranı  Tüketici Fiyat Endeksi  Tüketici Güven Endeksi  \\\n",
       "32884                    -1.8                  92.893                   -46.2   \n",
       "3169                      1.1                  93.994                   -36.4   \n",
       "32206                    -1.8                  92.893                   -46.2   \n",
       "9403                      1.4                  94.465                   -41.8   \n",
       "14020                     1.4                  93.918                   -42.7   \n",
       "\n",
       "       3 Aylık EURIBOR Oranı  Çalışan Sayısı  ...  Ay_may  Ay_nov  Ay_oct  \\\n",
       "32884                  1.299          5099.1  ...    True   False   False   \n",
       "3169                   4.860          5191.0  ...    True   False   False   \n",
       "32206                  1.313          5099.1  ...    True   False   False   \n",
       "9403                   4.967          5228.1  ...   False   False   False   \n",
       "14020                  4.963          5228.1  ...   False   False   False   \n",
       "\n",
       "       Ay_sep  Haftanın Günü_mon  Haftanın Günü_thu  Haftanın Günü_tue  \\\n",
       "32884   False               True              False              False   \n",
       "3169    False              False               True              False   \n",
       "32206   False              False              False              False   \n",
       "9403    False              False              False              False   \n",
       "14020   False              False              False              False   \n",
       "\n",
       "       Haftanın Günü_wed  Önceki Kampanya Sonucu_nonexistent  \\\n",
       "32884              False                               False   \n",
       "3169               False                                True   \n",
       "32206              False                               False   \n",
       "9403               False                                True   \n",
       "14020              False                                True   \n",
       "\n",
       "       Önceki Kampanya Sonucu_success  \n",
       "32884                           False  \n",
       "3169                            False  \n",
       "32206                           False  \n",
       "9403                            False  \n",
       "14020                           False  \n",
       "\n",
       "[5 rows x 54 columns]"
      ]
     },
     "execution_count": 11,
     "metadata": {},
     "output_type": "execute_result"
    }
   ],
   "source": [
    "# Hedef değişkeni kodla\n",
    "le = LabelEncoder()\n",
    "data['Mevduat Aboneliği'] = le.fit_transform(data['Mevduat Aboneliği'])\n",
    "\n",
    "# Kategorik değişkenleri seç\n",
    "categorical_columns = ['Meslek', 'Medeni Durum', 'Eğitim Seviyesi', 'Kredi Geçmişi', \n",
    "                      'Konut Kredisi', 'Bireysel Kredi', 'İletişim Türü', 'Ay', \n",
    "                      'Haftanın Günü', 'Önceki Kampanya Sonucu']\n",
    "\n",
    "# One-Hot Encoding uygula\n",
    "data_encoded = pd.get_dummies(data, columns=categorical_columns, drop_first=True)\n",
    "\n",
    "# Kodlanmış veri setini kontrol et\n",
    "data_encoded.head()"
   ]
  },
  {
   "cell_type": "markdown",
   "id": "bafc3f27",
   "metadata": {
    "papermill": {
     "duration": 0.006385,
     "end_time": "2025-05-21T20:29:57.324747",
     "exception": false,
     "start_time": "2025-05-21T20:29:57.318362",
     "status": "completed"
    },
    "tags": []
   },
   "source": [
    "## Bu adımla:\n",
    "##### Hedef değişken model için uygun hale getirildi.\n",
    "\n",
    "##### Kategorik veriler sayısal sütunlara dönüştürülerek modelin tüm bilgiyi kullanması sağlandı."
   ]
  },
  {
   "cell_type": "markdown",
   "id": "e34fe988",
   "metadata": {
    "papermill": {
     "duration": 0.006357,
     "end_time": "2025-05-21T20:29:57.337649",
     "exception": false,
     "start_time": "2025-05-21T20:29:57.331292",
     "status": "completed"
    },
    "tags": []
   },
   "source": [
    "# Sayısal Değişkenlerin Standartlaştırılması (Ölçeklendirme)\n",
    "\n",
    "> #### Modelin daha sağlıklı ve hızlı öğrenmesi için sayısal değişkenleri aynı ölçeğe getirdim. Çünkü farklı ölçeklerdeki veriler modelin performansını olumsuz etkileyebilir.Öncelikle, sayısal sütunları seçtim.Ardından, StandardScaler ile bu sayısal verileri ortalaması 0, standart sapması 1 olacak şekilde standartlaştırdım.Bu işlem, özellikle mesafe tabanlı algoritmalar ve ağaç tabanlı modellerde dengeli sonuçlar alınmasına yardımcı olur.\n"
   ]
  },
  {
   "cell_type": "code",
   "execution_count": 12,
   "id": "91eca836",
   "metadata": {
    "execution": {
     "iopub.execute_input": "2025-05-21T20:29:57.351764Z",
     "iopub.status.busy": "2025-05-21T20:29:57.351512Z",
     "iopub.status.idle": "2025-05-21T20:29:57.383240Z",
     "shell.execute_reply": "2025-05-21T20:29:57.382554Z"
    },
    "papermill": {
     "duration": 0.040064,
     "end_time": "2025-05-21T20:29:57.384235",
     "exception": false,
     "start_time": "2025-05-21T20:29:57.344171",
     "status": "completed"
    },
    "tags": []
   },
   "outputs": [
    {
     "data": {
      "text/html": [
       "<div>\n",
       "<style scoped>\n",
       "    .dataframe tbody tr th:only-of-type {\n",
       "        vertical-align: middle;\n",
       "    }\n",
       "\n",
       "    .dataframe tbody tr th {\n",
       "        vertical-align: top;\n",
       "    }\n",
       "\n",
       "    .dataframe thead th {\n",
       "        text-align: right;\n",
       "    }\n",
       "</style>\n",
       "<table border=\"1\" class=\"dataframe\">\n",
       "  <thead>\n",
       "    <tr style=\"text-align: right;\">\n",
       "      <th></th>\n",
       "      <th>Yaş</th>\n",
       "      <th>Görüşme Süresi (sn)</th>\n",
       "      <th>Kampanya Temas Sayısı</th>\n",
       "      <th>Önceki Temastan Sonra Geçen Gün</th>\n",
       "      <th>Önceki Kampanya Temas Sayısı</th>\n",
       "      <th>İstihdam Değişim Oranı</th>\n",
       "      <th>Tüketici Fiyat Endeksi</th>\n",
       "      <th>Tüketici Güven Endeksi</th>\n",
       "      <th>3 Aylık EURIBOR Oranı</th>\n",
       "      <th>Çalışan Sayısı</th>\n",
       "      <th>...</th>\n",
       "      <th>Ay_may</th>\n",
       "      <th>Ay_nov</th>\n",
       "      <th>Ay_oct</th>\n",
       "      <th>Ay_sep</th>\n",
       "      <th>Haftanın Günü_mon</th>\n",
       "      <th>Haftanın Günü_thu</th>\n",
       "      <th>Haftanın Günü_tue</th>\n",
       "      <th>Haftanın Günü_wed</th>\n",
       "      <th>Önceki Kampanya Sonucu_nonexistent</th>\n",
       "      <th>Önceki Kampanya Sonucu_success</th>\n",
       "    </tr>\n",
       "  </thead>\n",
       "  <tbody>\n",
       "    <tr>\n",
       "      <th>32884</th>\n",
       "      <td>1.626817</td>\n",
       "      <td>0.442113</td>\n",
       "      <td>-0.561156</td>\n",
       "      <td>0.199019</td>\n",
       "      <td>1.650361</td>\n",
       "      <td>-1.196329</td>\n",
       "      <td>-1.177626</td>\n",
       "      <td>-1.236624</td>\n",
       "      <td>-1.340504</td>\n",
       "      <td>-0.946867</td>\n",
       "      <td>...</td>\n",
       "      <td>True</td>\n",
       "      <td>False</td>\n",
       "      <td>False</td>\n",
       "      <td>False</td>\n",
       "      <td>True</td>\n",
       "      <td>False</td>\n",
       "      <td>False</td>\n",
       "      <td>False</td>\n",
       "      <td>False</td>\n",
       "      <td>False</td>\n",
       "    </tr>\n",
       "    <tr>\n",
       "      <th>3169</th>\n",
       "      <td>1.434541</td>\n",
       "      <td>0.107803</td>\n",
       "      <td>-0.199552</td>\n",
       "      <td>0.199019</td>\n",
       "      <td>-0.351654</td>\n",
       "      <td>0.650895</td>\n",
       "      <td>0.725289</td>\n",
       "      <td>0.891953</td>\n",
       "      <td>0.715450</td>\n",
       "      <td>0.332751</td>\n",
       "      <td>...</td>\n",
       "      <td>True</td>\n",
       "      <td>False</td>\n",
       "      <td>False</td>\n",
       "      <td>False</td>\n",
       "      <td>False</td>\n",
       "      <td>True</td>\n",
       "      <td>False</td>\n",
       "      <td>False</td>\n",
       "      <td>True</td>\n",
       "      <td>False</td>\n",
       "    </tr>\n",
       "    <tr>\n",
       "      <th>32206</th>\n",
       "      <td>-0.680493</td>\n",
       "      <td>-0.797942</td>\n",
       "      <td>-0.561156</td>\n",
       "      <td>0.199019</td>\n",
       "      <td>1.650361</td>\n",
       "      <td>-1.196329</td>\n",
       "      <td>-1.177626</td>\n",
       "      <td>-1.236624</td>\n",
       "      <td>-1.332421</td>\n",
       "      <td>-0.946867</td>\n",
       "      <td>...</td>\n",
       "      <td>True</td>\n",
       "      <td>False</td>\n",
       "      <td>False</td>\n",
       "      <td>False</td>\n",
       "      <td>False</td>\n",
       "      <td>False</td>\n",
       "      <td>False</td>\n",
       "      <td>False</td>\n",
       "      <td>False</td>\n",
       "      <td>False</td>\n",
       "    </tr>\n",
       "    <tr>\n",
       "      <th>9403</th>\n",
       "      <td>-0.392079</td>\n",
       "      <td>0.379916</td>\n",
       "      <td>0.523658</td>\n",
       "      <td>0.199019</td>\n",
       "      <td>-0.351654</td>\n",
       "      <td>0.841987</td>\n",
       "      <td>1.539342</td>\n",
       "      <td>-0.280936</td>\n",
       "      <td>0.777227</td>\n",
       "      <td>0.849333</td>\n",
       "      <td>...</td>\n",
       "      <td>False</td>\n",
       "      <td>False</td>\n",
       "      <td>False</td>\n",
       "      <td>False</td>\n",
       "      <td>False</td>\n",
       "      <td>False</td>\n",
       "      <td>False</td>\n",
       "      <td>False</td>\n",
       "      <td>True</td>\n",
       "      <td>False</td>\n",
       "    </tr>\n",
       "    <tr>\n",
       "      <th>14020</th>\n",
       "      <td>-1.257320</td>\n",
       "      <td>-0.265379</td>\n",
       "      <td>-0.199552</td>\n",
       "      <td>0.199019</td>\n",
       "      <td>-0.351654</td>\n",
       "      <td>0.841987</td>\n",
       "      <td>0.593934</td>\n",
       "      <td>-0.476418</td>\n",
       "      <td>0.774918</td>\n",
       "      <td>0.849333</td>\n",
       "      <td>...</td>\n",
       "      <td>False</td>\n",
       "      <td>False</td>\n",
       "      <td>False</td>\n",
       "      <td>False</td>\n",
       "      <td>False</td>\n",
       "      <td>False</td>\n",
       "      <td>False</td>\n",
       "      <td>False</td>\n",
       "      <td>True</td>\n",
       "      <td>False</td>\n",
       "    </tr>\n",
       "  </tbody>\n",
       "</table>\n",
       "<p>5 rows × 54 columns</p>\n",
       "</div>"
      ],
      "text/plain": [
       "            Yaş  Görüşme Süresi (sn)  Kampanya Temas Sayısı  \\\n",
       "32884  1.626817             0.442113              -0.561156   \n",
       "3169   1.434541             0.107803              -0.199552   \n",
       "32206 -0.680493            -0.797942              -0.561156   \n",
       "9403  -0.392079             0.379916               0.523658   \n",
       "14020 -1.257320            -0.265379              -0.199552   \n",
       "\n",
       "       Önceki Temastan Sonra Geçen Gün  Önceki Kampanya Temas Sayısı  \\\n",
       "32884                         0.199019                      1.650361   \n",
       "3169                          0.199019                     -0.351654   \n",
       "32206                         0.199019                      1.650361   \n",
       "9403                          0.199019                     -0.351654   \n",
       "14020                         0.199019                     -0.351654   \n",
       "\n",
       "       İstihdam Değişim Oranı  Tüketici Fiyat Endeksi  Tüketici Güven Endeksi  \\\n",
       "32884               -1.196329               -1.177626               -1.236624   \n",
       "3169                 0.650895                0.725289                0.891953   \n",
       "32206               -1.196329               -1.177626               -1.236624   \n",
       "9403                 0.841987                1.539342               -0.280936   \n",
       "14020                0.841987                0.593934               -0.476418   \n",
       "\n",
       "       3 Aylık EURIBOR Oranı  Çalışan Sayısı  ...  Ay_may  Ay_nov  Ay_oct  \\\n",
       "32884              -1.340504       -0.946867  ...    True   False   False   \n",
       "3169                0.715450        0.332751  ...    True   False   False   \n",
       "32206              -1.332421       -0.946867  ...    True   False   False   \n",
       "9403                0.777227        0.849333  ...   False   False   False   \n",
       "14020               0.774918        0.849333  ...   False   False   False   \n",
       "\n",
       "       Ay_sep  Haftanın Günü_mon  Haftanın Günü_thu  Haftanın Günü_tue  \\\n",
       "32884   False               True              False              False   \n",
       "3169    False              False               True              False   \n",
       "32206   False              False              False              False   \n",
       "9403    False              False              False              False   \n",
       "14020   False              False              False              False   \n",
       "\n",
       "       Haftanın Günü_wed  Önceki Kampanya Sonucu_nonexistent  \\\n",
       "32884              False                               False   \n",
       "3169               False                                True   \n",
       "32206              False                               False   \n",
       "9403               False                                True   \n",
       "14020              False                                True   \n",
       "\n",
       "       Önceki Kampanya Sonucu_success  \n",
       "32884                           False  \n",
       "3169                            False  \n",
       "32206                           False  \n",
       "9403                            False  \n",
       "14020                           False  \n",
       "\n",
       "[5 rows x 54 columns]"
      ]
     },
     "execution_count": 12,
     "metadata": {},
     "output_type": "execute_result"
    }
   ],
   "source": [
    "# Sayısal değişkenleri seç\n",
    "numerical_columns = ['Yaş', 'Görüşme Süresi (sn)', 'Kampanya Temas Sayısı', \n",
    "                    'Önceki Temastan Sonra Geçen Gün', 'Önceki Kampanya Temas Sayısı', \n",
    "                    'İstihdam Değişim Oranı', 'Tüketici Fiyat Endeksi', \n",
    "                    'Tüketici Güven Endeksi', '3 Aylık EURIBOR Oranı', 'Çalışan Sayısı']\n",
    "\n",
    "# Ölçeklendirme\n",
    "scaler = StandardScaler()\n",
    "data_encoded[numerical_columns] = scaler.fit_transform(data_encoded[numerical_columns])\n",
    "\n",
    "# Ölçeklenmiş veri setini kontrol et\n",
    "data_encoded.head()"
   ]
  },
  {
   "cell_type": "markdown",
   "id": "3ea10c92",
   "metadata": {
    "papermill": {
     "duration": 0.006518,
     "end_time": "2025-05-21T20:29:57.397887",
     "exception": false,
     "start_time": "2025-05-21T20:29:57.391369",
     "status": "completed"
    },
    "tags": []
   },
   "source": [
    "## Bu adımla:\n",
    "##### Sayısal değişkenler aynı ölçek aralığına çekildi.\n",
    "\n",
    "##### Modelin farklı değişkenlere eşit ağırlık vermesi sağlandı."
   ]
  },
  {
   "cell_type": "markdown",
   "id": "ea168c4e",
   "metadata": {
    "papermill": {
     "duration": 0.006461,
     "end_time": "2025-05-21T20:29:57.410981",
     "exception": false,
     "start_time": "2025-05-21T20:29:57.404520",
     "status": "completed"
    },
    "tags": []
   },
   "source": [
    "# Veri Setini Eğitim ve Test Olarak Bölme\n",
    "\n",
    "> #### Modeli eğitirken, veriyi ikiye ayırmak gerekiyor: biri modeli öğrenmesi için eğitim, diğeri ise performansını sınamak için test verisi.Bağımsız değişkenleri (özellikler) ve hedef değişkeni ayırdım.Veri setini %80 eğitim, %20 test olarak böldüm.stratify=y parametresi ile hedef değişkenin dağılımının eğitim ve test setinde aynı oranda kalmasını sağladım.random_state=42 ile her çalıştırmada aynı bölünmenin yapılması garanti edildi.\n"
   ]
  },
  {
   "cell_type": "code",
   "execution_count": 13,
   "id": "9c3d5cd6",
   "metadata": {
    "execution": {
     "iopub.execute_input": "2025-05-21T20:29:57.425423Z",
     "iopub.status.busy": "2025-05-21T20:29:57.425207Z",
     "iopub.status.idle": "2025-05-21T20:29:57.442561Z",
     "shell.execute_reply": "2025-05-21T20:29:57.441827Z"
    },
    "papermill": {
     "duration": 0.0262,
     "end_time": "2025-05-21T20:29:57.443927",
     "exception": false,
     "start_time": "2025-05-21T20:29:57.417727",
     "status": "completed"
    },
    "tags": []
   },
   "outputs": [],
   "source": [
    "X = data_encoded.drop('Mevduat Aboneliği', axis=1)\n",
    "y = data_encoded['Mevduat Aboneliği']\n",
    "X_train, X_test, y_train, y_test = train_test_split(X, y, test_size=0.2, random_state=42, stratify=y)"
   ]
  },
  {
   "cell_type": "markdown",
   "id": "934075b3",
   "metadata": {
    "papermill": {
     "duration": 0.006635,
     "end_time": "2025-05-21T20:29:57.458312",
     "exception": false,
     "start_time": "2025-05-21T20:29:57.451677",
     "status": "completed"
    },
    "tags": []
   },
   "source": [
    " # Random Forest Modeli Eğitimi ve Performans Değerlendirmesi\n",
    "\n",
    "> #### Veri hazırlandıktan sonra, güçlü ve popüler sınıflandırma algoritmalarından biri olan Random Forest modelini kullandım.Modeli, eğitim verisi üzerinde fit metodu ile eğittim.Test verisi üzerinde tahminler yaparak performansını ölçtüm.class_weight='balanced' parametresi ile dengesiz sınıflar için ağırlıklandırma yaptım, böylece model azınlık sınıfı daha iyi öğrenebilsin.Sonuçları classification_report ile detaylı olarak değerlendirdim.Ayrıca, tahminlerin doğruluğunu görsel olarak anlamak için karışıklık (confusion) matrisini çizdim.\n"
   ]
  },
  {
   "cell_type": "code",
   "execution_count": 14,
   "id": "50eb0b18",
   "metadata": {
    "execution": {
     "iopub.execute_input": "2025-05-21T20:29:57.472688Z",
     "iopub.status.busy": "2025-05-21T20:29:57.472423Z",
     "iopub.status.idle": "2025-05-21T20:29:58.241277Z",
     "shell.execute_reply": "2025-05-21T20:29:58.240702Z"
    },
    "papermill": {
     "duration": 0.77734,
     "end_time": "2025-05-21T20:29:58.242265",
     "exception": false,
     "start_time": "2025-05-21T20:29:57.464925",
     "status": "completed"
    },
    "tags": []
   },
   "outputs": [
    {
     "name": "stdout",
     "output_type": "stream",
     "text": [
      "Random Forest Performansı:\n",
      "              precision    recall  f1-score   support\n",
      "\n",
      "           0       0.63      0.42      0.50       446\n",
      "           1       0.93      0.97      0.95      3554\n",
      "\n",
      "    accuracy                           0.91      4000\n",
      "   macro avg       0.78      0.69      0.73      4000\n",
      "weighted avg       0.90      0.91      0.90      4000\n",
      "\n"
     ]
    },
    {
     "data": {
      "image/png": "[encoded data removed]",
      "text/plain": [
       "<Figure size 640x480 with 2 Axes>"
      ]
     },
     "metadata": {},
     "output_type": "display_data"
    }
   ],
   "source": [
    "rf_model = RandomForestClassifier(random_state=42, class_weight='balanced', n_jobs=-1)\n",
    "rf_model.fit(X_train, y_train)\n",
    "y_pred_rf = rf_model.predict(X_test)\n",
    "print(\"Random Forest Performansı:\")\n",
    "print(classification_report(y_test, y_pred_rf))\n",
    "sns.heatmap(confusion_matrix(y_test, y_pred_rf), annot=True, fmt='d', cmap='Purples')\n",
    "plt.title('Random Forest Karmaşıklık Matrisi')\n",
    "plt.show()"
   ]
  },
  {
   "cell_type": "markdown",
   "id": "6771502b",
   "metadata": {
    "papermill": {
     "duration": 0.008091,
     "end_time": "2025-05-21T20:29:58.258114",
     "exception": false,
     "start_time": "2025-05-21T20:29:58.250023",
     "status": "completed"
    },
    "tags": []
   },
   "source": [
    "## Bu adımla:\n",
    "##### Modelin doğruluk, hassasiyet, geri çağırma ve F1 skorlarını detaylıca inceledim.\n",
    "\n",
    "##### Hangi sınıflarda modelin iyi veya kötü performans gösterdiğini karışıklık matrisi ile görsel olarak değerlendirdim."
   ]
  },
  {
   "cell_type": "markdown",
   "id": "2dceaec7",
   "metadata": {
    "papermill": {
     "duration": 0.007431,
     "end_time": "2025-05-21T20:29:58.273155",
     "exception": false,
     "start_time": "2025-05-21T20:29:58.265724",
     "status": "completed"
    },
    "tags": []
   },
   "source": [
    "# XGBoost Modeli Eğitimi ve Performans Analizi\n",
    "\n",
    "> #### Modelleme sürecine güçlü bir diğer algoritma olan XGBoost’u dahil ettim. XGBoost, yüksek performanslı ve hızlı çalışan bir gradyan artırma (gradient boosting) algoritmasıdır.Veri dengesizliğini dikkate almak için scale_pos_weight parametresini pozitif ve negatif sınıfların oranına göre ayarladım. Bu sayede azınlık sınıfının öğrenilmesi desteklendi.Modeli eğitim verisi üzerinde eğittim.Test verisiyle tahminler yaparak sonuçları değerlendirdim.Performans ölçütlerini classification_report ile detaylıca inceledim.Tahmin sonuçlarını görsel olarak anlamak için karışıklık matrisini çizdim.\n"
   ]
  },
  {
   "cell_type": "code",
   "execution_count": 15,
   "id": "fd109fc3",
   "metadata": {
    "execution": {
     "iopub.execute_input": "2025-05-21T20:29:58.288257Z",
     "iopub.status.busy": "2025-05-21T20:29:58.288013Z",
     "iopub.status.idle": "2025-05-21T20:29:58.715238Z",
     "shell.execute_reply": "2025-05-21T20:29:58.714645Z"
    },
    "papermill": {
     "duration": 0.436109,
     "end_time": "2025-05-21T20:29:58.716154",
     "exception": false,
     "start_time": "2025-05-21T20:29:58.280045",
     "status": "completed"
    },
    "tags": []
   },
   "outputs": [
    {
     "name": "stdout",
     "output_type": "stream",
     "text": [
      "XGBoost Performansı:\n",
      "              precision    recall  f1-score   support\n",
      "\n",
      "           0       0.50      0.85      0.63       446\n",
      "           1       0.98      0.89      0.93      3554\n",
      "\n",
      "    accuracy                           0.89      4000\n",
      "   macro avg       0.74      0.87      0.78      4000\n",
      "weighted avg       0.93      0.89      0.90      4000\n",
      "\n"
     ]
    },
    {
     "data": {
      "image/png": "[encoded data removed]",
      "text/plain": [
       "<Figure size 640x480 with 2 Axes>"
      ]
     },
     "metadata": {},
     "output_type": "display_data"
    }
   ],
   "source": [
    "scale_pos_weight = sum(y_train == 0) / sum(y_train == 1)\n",
    "xgb_model = XGBClassifier(random_state=42, scale_pos_weight=scale_pos_weight, eval_metric='logloss')\n",
    "xgb_model.fit(X_train, y_train)\n",
    "y_pred_xgb = xgb_model.predict(X_test)\n",
    "print(\"XGBoost Performansı:\")\n",
    "print(classification_report(y_test, y_pred_xgb))\n",
    "sns.heatmap(confusion_matrix(y_test, y_pred_xgb), annot=True, fmt='d', cmap='YlGnBu')\n",
    "plt.title('XGBoost Karmaşıklık Matrisi')\n",
    "plt.show()"
   ]
  },
  {
   "cell_type": "markdown",
   "id": "efe14772",
   "metadata": {
    "papermill": {
     "duration": 0.011126,
     "end_time": "2025-05-21T20:29:58.735465",
     "exception": false,
     "start_time": "2025-05-21T20:29:58.724339",
     "status": "completed"
    },
    "tags": []
   },
   "source": [
    "## Bu adımla:\n",
    "##### Modelin azınlık sınıf performansını iyileştirmeye yönelik önlem aldım.\n",
    "\n",
    "##### XGBoost algoritmasının doğruluk, hassasiyet, duyarlılık ve F1 skorlarını ayrıntılı şekilde inceledim.\n",
    "\n",
    "##### Karışıklık matrisi ile hangi sınıflarda daha başarılı olduğunu görsel olarak analiz ettim."
   ]
  },
  {
   "cell_type": "markdown",
   "id": "9a79976c",
   "metadata": {
    "papermill": {
     "duration": 0.009852,
     "end_time": "2025-05-21T20:29:58.754117",
     "exception": false,
     "start_time": "2025-05-21T20:29:58.744265",
     "status": "completed"
    },
    "tags": []
   },
   "source": [
    " # Modellerin ROC Eğrileri ile Karşılaştırılması\n",
    "\n",
    "> #### Model performanslarını karşılaştırmak için ROC eğrilerini çizdim. ROC eğrisi, modelin farklı sınıflandırma eşiklerinde nasıl performans gösterdiğini görmemizi sağlar.Her iki modelin test verisi üzerindeki olasılık tahminlerini aldım.roc_curve fonksiyonuyla yanlış pozitif oran (FPR) ve doğru pozitif oran (TPR) hesaplandı.roc_auc_score ile modellerin AUC (Area Under Curve) değerlerini hesapladım. AUC, modelin genel sınıflandırma başarısını özetler.ROC eğrilerini tek grafik üzerinde göstererek karşılaştırmayı kolaylaştırdım.Diyagonal çizgi (k--), rastgele tahmin sınırını temsil eder.\n"
   ]
  },
  {
   "cell_type": "code",
   "execution_count": 16,
   "id": "6179f615",
   "metadata": {
    "execution": {
     "iopub.execute_input": "2025-05-21T20:29:58.777433Z",
     "iopub.status.busy": "2025-05-21T20:29:58.777190Z",
     "iopub.status.idle": "2025-05-21T20:29:59.038714Z",
     "shell.execute_reply": "2025-05-21T20:29:59.038095Z"
    },
    "papermill": {
     "duration": 0.273324,
     "end_time": "2025-05-21T20:29:59.039730",
     "exception": false,
     "start_time": "2025-05-21T20:29:58.766406",
     "status": "completed"
    },
    "tags": []
   },
   "outputs": [
    {
     "data": {
      "image/png": "[encoded data removed]",
      "text/plain": [
       "<Figure size 800x600 with 1 Axes>"
      ]
     },
     "metadata": {},
     "output_type": "display_data"
    }
   ],
   "source": [
    "models = {'Random Forest': rf_model, 'XGBoost': xgb_model}\n",
    "plt.figure(figsize=(8, 6))\n",
    "for name, model in models.items():\n",
    "    y_pred_proba = model.predict_proba(X_test)[:, 1]\n",
    "    fpr, tpr, _ = roc_curve(y_test, y_pred_proba)\n",
    "    auc_score = roc_auc_score(y_test, y_pred_proba)\n",
    "    plt.plot(fpr, tpr, label=f'{name} (AUC = {auc_score:.2f})')\n",
    "plt.plot([0, 1], [0, 1], 'k--')\n",
    "plt.xlabel('False Positive Rate')\n",
    "plt.ylabel('True Positive Rate')\n",
    "plt.title('ROC Eğrisi')\n",
    "plt.savefig('roc_curve.png')\n",
    "plt.legend()\n",
    "plt.show()"
   ]
  },
  {
   "cell_type": "markdown",
   "id": "bbc03b8f",
   "metadata": {
    "papermill": {
     "duration": 0.008428,
     "end_time": "2025-05-21T20:29:59.057007",
     "exception": false,
     "start_time": "2025-05-21T20:29:59.048579",
     "status": "completed"
    },
    "tags": []
   },
   "source": [
    "## Bu adımla:\n",
    "##### Modellerin ayırt edicilik gücünü karşılaştırdım.\n",
    "\n",
    "##### Daha yüksek AUC değerine sahip modelin genel olarak daha iyi performans gösterdiğini tespit ettim."
   ]
  },
  {
   "cell_type": "markdown",
   "id": "fef710da",
   "metadata": {
    "papermill": {
     "duration": 0.008334,
     "end_time": "2025-05-21T20:29:59.073755",
     "exception": false,
     "start_time": "2025-05-21T20:29:59.065421",
     "status": "completed"
    },
    "tags": []
   },
   "source": [
    " # Random Forest Modeli İçin Hiperparametre Optimizasyonu\n",
    "\n",
    "> #### Model performansını artırmak için parametre ayarlarını otomatik olarak aradım:RandomizedSearchCV ile farklı parametre kombinasyonlarını rastgele seçerek denedim.param_dist içinde ağaç sayısı, derinlik, yaprak ve bölünme için farklı değerler tanımladım.5 katlı çapraz doğrulama (cross-validation) kullanarak modelleri değerlendirdim.f1_weighted skoru ile dengesiz sınıflarda dengeli performans sağlamaya çalıştım.En iyi parametreleri ve bu parametrelerle eğitilmiş modeli seçtim.Test verisi üzerinde son performansı raporladım.\n"
   ]
  },
  {
   "cell_type": "code",
   "execution_count": 17,
   "id": "0f34a588",
   "metadata": {
    "execution": {
     "iopub.execute_input": "2025-05-21T20:29:59.094337Z",
     "iopub.status.busy": "2025-05-21T20:29:59.094089Z",
     "iopub.status.idle": "2025-05-21T20:31:34.777289Z",
     "shell.execute_reply": "2025-05-21T20:31:34.776410Z"
    },
    "papermill": {
     "duration": 95.704675,
     "end_time": "2025-05-21T20:31:34.787043",
     "exception": false,
     "start_time": "2025-05-21T20:29:59.082368",
     "status": "completed"
    },
    "tags": []
   },
   "outputs": [
    {
     "name": "stdout",
     "output_type": "stream",
     "text": [
      "En iyi parametreler: {'n_estimators': 200, 'min_samples_split': 5, 'min_samples_leaf': 2, 'max_depth': 30}\n",
      "En İyi Random Forest Performansı:\n",
      "              precision    recall  f1-score   support\n",
      "\n",
      "           0       0.56      0.72      0.63       446\n",
      "           1       0.96      0.93      0.95      3554\n",
      "\n",
      "    accuracy                           0.91      4000\n",
      "   macro avg       0.76      0.82      0.79      4000\n",
      "weighted avg       0.92      0.91      0.91      4000\n",
      "\n"
     ]
    }
   ],
   "source": [
    "param_dist = {\n",
    "    'n_estimators': [100, 200, 300],\n",
    "    'max_depth': [10, 20, 30, None],\n",
    "    'min_samples_split': [2, 5, 10],\n",
    "    'min_samples_leaf': [1, 2, 4]\n",
    "}\n",
    "random_search = RandomizedSearchCV(\n",
    "    RandomForestClassifier(random_state=42, class_weight='balanced'),\n",
    "    param_distributions=param_dist, n_iter=10, cv=5, scoring='f1_weighted', n_jobs=1\n",
    ")\n",
    "random_search.fit(X_train, y_train)\n",
    "print(\"En iyi parametreler:\", random_search.best_params_)\n",
    "best_rf_model = random_search.best_estimator_\n",
    "y_pred_best_rf = best_rf_model.predict(X_test)\n",
    "print(\"En İyi Random Forest Performansı:\")\n",
    "print(classification_report(y_test, y_pred_best_rf))"
   ]
  },
  {
   "cell_type": "markdown",
   "id": "6c0e1677",
   "metadata": {
    "papermill": {
     "duration": 0.008482,
     "end_time": "2025-05-21T20:31:34.804195",
     "exception": false,
     "start_time": "2025-05-21T20:31:34.795713",
     "status": "completed"
    },
    "tags": []
   },
   "source": [
    "## Bu sayede:\n",
    "##### Modelin karmaşık ayarlarını optimize ederek daha başarılı sonuçlar elde ettim.\n",
    "\n",
    "##### Overfitting riskini azaltmak için çapraz doğrulama kullandım.\n",
    "\n",
    "##### En iyi parametrelerle eğitilmiş modelin test performansını analiz ettim."
   ]
  },
  {
   "cell_type": "markdown",
   "id": "58012f92",
   "metadata": {
    "papermill": {
     "duration": 0.008485,
     "end_time": "2025-05-21T20:31:34.821534",
     "exception": false,
     "start_time": "2025-05-21T20:31:34.813049",
     "status": "completed"
    },
    "tags": []
   },
   "source": [
    "# 📊 Modelin En Önemli Özellikleri\n",
    "\n",
    "> #### Makine öğrenmesi modellerinde, hangi değişkenlerin tahmin sürecine ne kadar katkı sağladığını görmek modelin yorumlanabilirliği açısından çok önemlidir.Bu adımda, Random Forest algoritmasında her bir özelliğin modele katkı oranını analiz ettim:feature_importances_ fonksiyonu sayesinde her değişkenin tahmin gücünü sayısal olarak elde ettim.Sonrasında bu önem derecelerini azalan sıraya göre sıraladım.En yüksek etkiye sahip ilk 10 değişkeni seçip barplot ile görselleştirdim.\n"
   ]
  },
  {
   "cell_type": "code",
   "execution_count": 18,
   "id": "83efa536",
   "metadata": {
    "execution": {
     "iopub.execute_input": "2025-05-21T20:31:34.840454Z",
     "iopub.status.busy": "2025-05-21T20:31:34.840189Z",
     "iopub.status.idle": "2025-05-21T20:31:35.017128Z",
     "shell.execute_reply": "2025-05-21T20:31:35.016450Z"
    },
    "papermill": {
     "duration": 0.188069,
     "end_time": "2025-05-21T20:31:35.018433",
     "exception": false,
     "start_time": "2025-05-21T20:31:34.830364",
     "status": "completed"
    },
    "tags": []
   },
   "outputs": [
    {
     "data": {
      "image/png": "[encoded data removed]",
      "text/plain": [
       "<Figure size 1000x600 with 1 Axes>"
      ]
     },
     "metadata": {},
     "output_type": "display_data"
    },
    {
     "name": "stdout",
     "output_type": "stream",
     "text": [
      "En Önemli Özellikler:\n",
      "                            Özellik      Önem\n",
      "1               Görüşme Süresi (sn)  0.406547\n",
      "8             3 Aylık EURIBOR Oranı  0.088424\n",
      "9                    Çalışan Sayısı  0.075144\n",
      "5            İstihdam Değişim Oranı  0.059449\n",
      "0                               Yaş  0.048082\n",
      "7            Tüketici Güven Endeksi  0.039288\n",
      "6            Tüketici Fiyat Endeksi  0.028569\n",
      "2             Kampanya Temas Sayısı  0.022435\n",
      "52   Önceki Kampanya Sonucu_success  0.017556\n",
      "3   Önceki Temastan Sonra Geçen Gün  0.017414\n"
     ]
    }
   ],
   "source": [
    "feature_importance = pd.DataFrame({\n",
    "    'Özellik': X_train.columns,\n",
    "    'Önem': best_rf_model.feature_importances_\n",
    "}).sort_values(by='Önem', ascending=False).head(10)\n",
    "\n",
    "plt.figure(figsize=(10, 6))\n",
    "sns.barplot(x='Önem', y='Özellik', data=feature_importance, palette='viridis')\n",
    "plt.title('En Önemli 10 Özellik (En İyi Random Forest)')\n",
    "plt.show()\n",
    "print(\"En Önemli Özellikler:\")\n",
    "print(feature_importance)"
   ]
  },
  {
   "cell_type": "markdown",
   "id": "7b8f83b9",
   "metadata": {
    "papermill": {
     "duration": 0.010202,
     "end_time": "2025-05-21T20:31:35.039114",
     "exception": false,
     "start_time": "2025-05-21T20:31:35.028912",
     "status": "completed"
    },
    "tags": []
   },
   "source": [
    "## 🧠 Neden Önemli?\n",
    "## Bu analiz sayesinde:\n",
    "\n",
    "##### Modelin hangi kriterlere dayandığını gördük.\n",
    "\n",
    "##### Pazarlama stratejileri belirlenirken hangi müşteri özelliklerine ağırlık verilmesi gerektiğine dair fikir elde ettik.\n",
    "\n",
    "##### Özellik mühendisliği sürecinde hangi değişkenlerin korunması veya geliştirilmesi gerektiğini tespit ettik.\n",
    "\n"
   ]
  },
  {
   "cell_type": "markdown",
   "id": "ca45913c",
   "metadata": {
    "papermill": {
     "duration": 0.01095,
     "end_time": "2025-05-21T20:31:35.061185",
     "exception": false,
     "start_time": "2025-05-21T20:31:35.050235",
     "status": "completed"
    },
    "tags": []
   },
   "source": [
    "# Ağırlıklandırılmış Random Forest ile Dengesiz Veriyle Mücadele\n",
    "\n",
    "> #### Veri setimizde hedef değişken olan \"Mevduat Aboneliği\" sınıfları arasında belirgin bir dengesizlik bulunmakta. Bu dengesizlik, modelin çoğunluk sınıfına (genellikle Hayır) yönelmesine neden olabilir. Bu sorunu azaltmak için Random Forest algoritmasına sınıf ağırlıkları tanımlayarak azınlık sınıfı (Evet) için daha adil bir öğrenme süreci sağladık.\n",
    "#### 💡 Ne Yaptık? class_weight={0: 15, 1: 1} ile çoğunluk sınıfı olan Hayır (0) sınıfına daha yüksek bir ceza uyguladık.Bu şekilde model, Evet sınıfını da ciddiye alarak dengeli bir tahmin gerçekleştirmeye çalıştı. Daha önceki en iyi hiperparametre ayarlarını bu modelde de kullandık.\n"
   ]
  },
  {
   "cell_type": "code",
   "execution_count": 19,
   "id": "f1c87960",
   "metadata": {
    "execution": {
     "iopub.execute_input": "2025-05-21T20:31:35.083188Z",
     "iopub.status.busy": "2025-05-21T20:31:35.082955Z",
     "iopub.status.idle": "2025-05-21T20:31:37.374588Z",
     "shell.execute_reply": "2025-05-21T20:31:37.373806Z"
    },
    "papermill": {
     "duration": 2.304271,
     "end_time": "2025-05-21T20:31:37.376011",
     "exception": false,
     "start_time": "2025-05-21T20:31:35.071740",
     "status": "completed"
    },
    "tags": []
   },
   "outputs": [
    {
     "name": "stdout",
     "output_type": "stream",
     "text": [
      "Ağırlıklandırılmış Random Forest Performansı:\n",
      "              precision    recall  f1-score   support\n",
      "\n",
      "           0       0.55      0.76      0.63       446\n",
      "           1       0.97      0.92      0.94      3554\n",
      "\n",
      "    accuracy                           0.90      4000\n",
      "   macro avg       0.76      0.84      0.79      4000\n",
      "weighted avg       0.92      0.90      0.91      4000\n",
      "\n"
     ]
    }
   ],
   "source": [
    "rf_model = RandomForestClassifier(\n",
    "    random_state=42,\n",
    "    n_estimators=200,\n",
    "    max_depth=30,\n",
    "    min_samples_split=5,\n",
    "    min_samples_leaf=2,\n",
    "    class_weight={0: 15, 1: 1},  # Hayır sınıfına daha fazla ağırlık\n",
    "    n_jobs=1\n",
    ")\n",
    "rf_model.fit(X_train, y_train)\n",
    "y_pred_rf = rf_model.predict(X_test)\n",
    "print(\"Ağırlıklandırılmış Random Forest Performansı:\")\n",
    "print(classification_report(y_test, y_pred_rf))"
   ]
  },
  {
   "cell_type": "markdown",
   "id": "1fef0500",
   "metadata": {
    "papermill": {
     "duration": 0.009378,
     "end_time": "2025-05-21T20:31:37.395669",
     "exception": false,
     "start_time": "2025-05-21T20:31:37.386291",
     "status": "completed"
    },
    "tags": []
   },
   "source": [
    "## 📈 Sonuç\n",
    "## Bu yöntemle:\n",
    "\n",
    "##### Modelin dengesiz sınıflara karşı dayanıklılığı arttırıldı.\n",
    "\n",
    "##### Precision, Recall ve F1-Score gibi metrikler daha adil değerlendirildi.\n",
    "\n",
    "##### Özellikle Evet sınıfının yakalanma oranı (Recall) iyileştirildi."
   ]
  },
  {
   "cell_type": "markdown",
   "id": "b5db4169",
   "metadata": {
    "papermill": {
     "duration": 0.009427,
     "end_time": "2025-05-21T20:31:37.414675",
     "exception": false,
     "start_time": "2025-05-21T20:31:37.405248",
     "status": "completed"
    },
    "tags": []
   },
   "source": [
    "# 🎯 Eşik Değeri (Threshold) Ayarlamaları ile Model Hassasiyetini İnceleme\n",
    "\n",
    "> #### Makine öğrenmesi modelleri genellikle tahmin sonucunu olasılık (probability) olarak verir. Ancak bu olasılığı bir sınıfa dönüştürmek için bir eşik değeri (threshold) kullanmamız gerekir. Varsayılan olarak bu eşik değeri genellikle 0.5 alınır. Ancak bu değer her zaman en iyi sonucu vermez, özellikle dengesiz sınıflarda farklı eşiklerle modelin davranışını gözlemlemek çok faydalıdır. 💡 Ne Yaptık? En iyi Random Forest modelimiz ile test setindeki her gözlem için pozitif sınıfa ait olma olasılığını (predict_proba) hesapladık.Ardından farklı eşik değerleri (0.3, 0.4, 0.5, 0.6) için bu olasılıkları ikili sınıfa (0 veya 1) dönüştürdük.Her eşik değeri için modelin performansını değerlendirdik.\n"
   ]
  },
  {
   "cell_type": "code",
   "execution_count": 20,
   "id": "2dadc334",
   "metadata": {
    "execution": {
     "iopub.execute_input": "2025-05-21T20:31:37.435770Z",
     "iopub.status.busy": "2025-05-21T20:31:37.435481Z",
     "iopub.status.idle": "2025-05-21T20:31:37.563720Z",
     "shell.execute_reply": "2025-05-21T20:31:37.562492Z"
    },
    "papermill": {
     "duration": 0.140776,
     "end_time": "2025-05-21T20:31:37.565107",
     "exception": false,
     "start_time": "2025-05-21T20:31:37.424331",
     "status": "completed"
    },
    "tags": []
   },
   "outputs": [
    {
     "name": "stdout",
     "output_type": "stream",
     "text": [
      "Eşik: 0.3\n",
      "              precision    recall  f1-score   support\n",
      "\n",
      "           0       0.68      0.37      0.48       446\n",
      "           1       0.93      0.98      0.95      3554\n",
      "\n",
      "    accuracy                           0.91      4000\n",
      "   macro avg       0.80      0.68      0.72      4000\n",
      "weighted avg       0.90      0.91      0.90      4000\n",
      "\n",
      "Eşik: 0.4\n",
      "              precision    recall  f1-score   support\n",
      "\n",
      "           0       0.61      0.54      0.57       446\n",
      "           1       0.94      0.96      0.95      3554\n",
      "\n",
      "    accuracy                           0.91      4000\n",
      "   macro avg       0.78      0.75      0.76      4000\n",
      "weighted avg       0.91      0.91      0.91      4000\n",
      "\n",
      "Eşik: 0.5\n",
      "              precision    recall  f1-score   support\n",
      "\n",
      "           0       0.56      0.72      0.63       446\n",
      "           1       0.96      0.93      0.95      3554\n",
      "\n",
      "    accuracy                           0.91      4000\n",
      "   macro avg       0.76      0.82      0.79      4000\n",
      "weighted avg       0.92      0.91      0.91      4000\n",
      "\n",
      "Eşik: 0.6\n",
      "              precision    recall  f1-score   support\n",
      "\n",
      "           0       0.52      0.84      0.64       446\n",
      "           1       0.98      0.90      0.94      3554\n",
      "\n",
      "    accuracy                           0.89      4000\n",
      "   macro avg       0.75      0.87      0.79      4000\n",
      "weighted avg       0.93      0.89      0.91      4000\n",
      "\n"
     ]
    }
   ],
   "source": [
    "y_pred_proba = best_rf_model.predict_proba(X_test)[:, 1]\n",
    "thresholds = [0.3, 0.4, 0.5, 0.6]\n",
    "for thresh in thresholds:\n",
    "    y_pred = (y_pred_proba >= thresh).astype(int)\n",
    "    print(f\"Eşik: {thresh}\")\n",
    "    print(classification_report(y_test, y_pred))"
   ]
  },
  {
   "cell_type": "markdown",
   "id": "c407b01d",
   "metadata": {
    "papermill": {
     "duration": 0.011184,
     "end_time": "2025-05-21T20:31:37.586516",
     "exception": false,
     "start_time": "2025-05-21T20:31:37.575332",
     "status": "completed"
    },
    "tags": []
   },
   "source": [
    "## 📌 Neden Önemli?\n",
    "##### Düşük eşik değerleri (örneğin 0.3), Recall değerini artırabilir; bu da \"Evet\" sınıfını daha fazla tahmin etmemize neden olur.\n",
    "\n",
    "##### Yüksek eşik değerleri (örneğin 0.6), Precision'ı artırabilir; model yalnızca çok emin olduğunda \"Evet\" tahmini yapar.\n",
    "\n",
    "##### Böylece projemizin amacı ve önceliğine göre doğru dengeyi bulmamız mümkün olur (örneğin müşteri kazanımı mı daha önemli, yoksa yanlış pozitiften kaçınmak mı?).\n",
    "\n",
    "## 📊 Karar Destek\n",
    "##### Bu analiz, iş hedeflerine en uygun eşik değerini seçmemize yardımcı olur."
   ]
  },
  {
   "cell_type": "markdown",
   "id": "43a5c09c",
   "metadata": {
    "papermill": {
     "duration": 0.00946,
     "end_time": "2025-05-21T20:31:37.605858",
     "exception": false,
     "start_time": "2025-05-21T20:31:37.596398",
     "status": "completed"
    },
    "tags": []
   },
   "source": [
    "# ✅ Final Model Performansı (Eşik Değeri: 0.6)\n",
    "#### Modelin son versiyonunu oluştururken, 0.6 eşik değeri ile sınıflandırma yapılması tercih edilmiştir. Bu tercih, özellikle \"Evet\" tahminlerinde daha temkinli ve seçici olmayı sağlar.\n",
    "\n",
    "# 🧠 Neden 0.6?\n",
    "#### Daha önce yapılan eşik değer analizinde, 0.6 değeriyle precision-recall dengesi görece daha iyi sonuçlar üretmiştir. Bu, bankanın pazarlama kampanyalarında yanlış pozitifleri azaltmak (yani aslında hesap açmayacak birine boşuna zaman harcamamak) açısından faydalı olabilir."
   ]
  },
  {
   "cell_type": "code",
   "execution_count": 21,
   "id": "b8ec8cb1",
   "metadata": {
    "execution": {
     "iopub.execute_input": "2025-05-21T20:31:37.626732Z",
     "iopub.status.busy": "2025-05-21T20:31:37.626325Z",
     "iopub.status.idle": "2025-05-21T20:31:37.850252Z",
     "shell.execute_reply": "2025-05-21T20:31:37.849640Z"
    },
    "papermill": {
     "duration": 0.23598,
     "end_time": "2025-05-21T20:31:37.851708",
     "exception": false,
     "start_time": "2025-05-21T20:31:37.615728",
     "status": "completed"
    },
    "tags": []
   },
   "outputs": [
    {
     "name": "stdout",
     "output_type": "stream",
     "text": [
      "Final Model (Eşik 0.6) Performansı:\n",
      "              precision    recall  f1-score   support\n",
      "\n",
      "           0       0.52      0.84      0.64       446\n",
      "           1       0.98      0.90      0.94      3554\n",
      "\n",
      "    accuracy                           0.89      4000\n",
      "   macro avg       0.75      0.87      0.79      4000\n",
      "weighted avg       0.93      0.89      0.91      4000\n",
      "\n"
     ]
    },
    {
     "data": {
      "image/png": "[encoded data removed]",
      "text/plain": [
       "<Figure size 600x400 with 2 Axes>"
      ]
     },
     "metadata": {},
     "output_type": "display_data"
    }
   ],
   "source": [
    "y_pred_final = (best_rf_model.predict_proba(X_test)[:, 1] >= 0.6).astype(int)\n",
    "print(\"Final Model (Eşik 0.6) Performansı:\")\n",
    "print(classification_report(y_test, y_pred_final))\n",
    "plt.figure(figsize=(6, 4))\n",
    "sns.heatmap(confusion_matrix(y_test, y_pred_final), annot=True, fmt='d', cmap='Greens')\n",
    "plt.title('Final Random Forest Karmaşıklık Matrisi (Eşik 0.6)')\n",
    "plt.xlabel('Tahmin Edilen')\n",
    "plt.ylabel('Gerçek')\n",
    "plt.show()"
   ]
  },
  {
   "cell_type": "markdown",
   "id": "14cdd5c7",
   "metadata": {
    "papermill": {
     "duration": 0.009738,
     "end_time": "2025-05-21T20:31:37.871969",
     "exception": false,
     "start_time": "2025-05-21T20:31:37.862231",
     "status": "completed"
    },
    "tags": []
   },
   "source": [
    "## 📈 Model Performansı:\n",
    "##### Precision: Modelin \"Evet\" tahminlerinden kaçı gerçekten doğru?\n",
    "\n",
    "##### Recall: Gerçek \"Evet\" olanların kaçı doğru tahmin edildi?\n",
    "\n",
    "##### F1-Score: Precision ve Recall’un dengeli bir ortalaması.\n",
    "\n",
    "##### Confusion Matrix (Karmaşıklık Matrisi): Gerçek ve tahmin edilen değerlerin karşılaştırması.\n",
    "\n",
    "##### Bu analiz, modelin sahada kullanıma hazır hale gelmeden önce ne kadar güvenilir çalıştığını ve hangi tür hataları yapabileceğini anlamak açısından kritik önem taşır."
   ]
  },
  {
   "cell_type": "markdown",
   "id": "95fb579a",
   "metadata": {
    "papermill": {
     "duration": 0.010815,
     "end_time": "2025-05-21T20:31:37.892753",
     "exception": false,
     "start_time": "2025-05-21T20:31:37.881938",
     "status": "completed"
    },
    "tags": []
   },
   "source": [
    "# 🔍 Model Performans Karşılaştırması\n",
    "> #### Farklı algoritmalar ve hiperparametre kombinasyonlarıyla oluşturulan modellerin karşılaştırılması, en etkili çözümün seçilmesi açısından kritik öneme sahiptir. Aşağıda, her bir modelin F1-Score ve ROC-AUC metriklerine göre değerlendirilmesi sunulmuştur:"
   ]
  },
  {
   "cell_type": "code",
   "execution_count": 22,
   "id": "c24c2ce9",
   "metadata": {
    "execution": {
     "iopub.execute_input": "2025-05-21T20:31:37.914458Z",
     "iopub.status.busy": "2025-05-21T20:31:37.914194Z",
     "iopub.status.idle": "2025-05-21T20:31:38.332838Z",
     "shell.execute_reply": "2025-05-21T20:31:38.331729Z"
    },
    "papermill": {
     "duration": 0.431519,
     "end_time": "2025-05-21T20:31:38.334382",
     "exception": false,
     "start_time": "2025-05-21T20:31:37.902863",
     "status": "completed"
    },
    "tags": []
   },
   "outputs": [
    {
     "name": "stdout",
     "output_type": "stream",
     "text": [
      "Model Performans Karşılaştırması:\n",
      "                   Model  F1-Score (Evet)  F1-Score (Hayır)   ROC-AUC\n",
      "0          Random Forest             0.95              0.50  0.945009\n",
      "1                XGBoost             0.93              0.63  0.942918\n",
      "2   En İyi Random Forest             0.95              0.63  0.944916\n",
      "3  Ağırlıklandırılmış RF             0.94              0.63  0.945009\n",
      "4    Final RF (Eşik 0.6)             0.94              0.64  0.944916\n"
     ]
    }
   ],
   "source": [
    "results = pd.DataFrame({\n",
    "    'Model': ['Random Forest', 'XGBoost', 'En İyi Random Forest', 'Ağırlıklandırılmış RF', 'Final RF (Eşik 0.6)'],\n",
    "    'F1-Score (Evet)': [0.95, 0.93, 0.95, 0.94, 0.94],\n",
    "    'F1-Score (Hayır)': [0.50, 0.63, 0.63, 0.63, 0.64],\n",
    "    'ROC-AUC': [\n",
    "        roc_auc_score(y_test, rf_model.predict_proba(X_test)[:, 1]),\n",
    "        roc_auc_score(y_test, xgb_model.predict_proba(X_test)[:, 1]),\n",
    "        roc_auc_score(y_test, best_rf_model.predict_proba(X_test)[:, 1]),\n",
    "        roc_auc_score(y_test, rf_model.predict_proba(X_test)[:, 1]),\n",
    "        roc_auc_score(y_test, best_rf_model.predict_proba(X_test)[:, 1])\n",
    "    ]\n",
    "})\n",
    "print(\"Model Performans Karşılaştırması:\")\n",
    "print(results)"
   ]
  }
 ],
 "metadata": {
  "kaggle": {
   "accelerator": "none",
   "dataSources": [
    {
     "datasetId": 7472115,
     "sourceId": 11888216,
     "sourceType": "datasetVersion"
    }
   ],
   "dockerImageVersionId": 31040,
   "isGpuEnabled": false,
   "isInternetEnabled": true,
   "language": "python",
   "sourceType": "notebook"
  },
  "kernelspec": {
   "display_name": "Python 3",
   "language": "python",
   "name": "python3"
  },
  "language_info": {
   "codemirror_mode": {
    "name": "ipython",
    "version": 3
   },
   "file_extension": ".py",
   "mimetype": "text/x-python",
   "name": "python",
   "nbconvert_exporter": "python",
   "pygments_lexer": "ipython3",
   "version": "3.11.11"
  },
  "papermill": {
   "default_parameters": {},
   "duration": 109.716242,
   "end_time": "2025-05-21T20:31:39.063571",
   "environment_variables": {},
   "exception": null,
   "input_path": "__notebook__.ipynb",
   "output_path": "__notebook__.ipynb",
   "parameters": {},
   "start_time": "2025-05-21T20:29:49.347329",
   "version": "2.6.0"
  }
 },
 "nbformat": 4,
 "nbformat_minor": 5
}
